{
 "cells": [
  {
   "cell_type": "markdown",
   "metadata": {
    "Collapsed": "false"
   },
   "source": [
    "# AutoGluon Tabular with SageMaker\n",
    "\n",
    "[AutoGluon](https://github.com/awslabs/autogluon) automates machine learning tasks enabling you to easily achieve strong predictive performance in your applications. With just a few lines of code, you can train and deploy high-accuracy deep learning models on tabular, image, and text data.\n",
    "This notebook shows how to use AutoGluon-Tabular with Amazon SageMaker by creating custom containers."
   ]
  },
  {
   "cell_type": "markdown",
   "metadata": {
    "Collapsed": "false"
   },
   "source": [
    "## Prerequisites\n",
    "\n",
    "If using a SageMaker hosted notebook, select kernel `conda_mxnet_p36`."
   ]
  },
  {
   "cell_type": "code",
   "execution_count": 1,
   "metadata": {
    "Collapsed": "false"
   },
   "outputs": [
    {
     "data": {
      "text/plain": [
       "CompletedProcess(args='./setup.sh', returncode=0)"
      ]
     },
     "execution_count": 1,
     "metadata": {},
     "output_type": "execute_result"
    }
   ],
   "source": [
    "import subprocess\n",
    "# Make sure docker compose is set up properly for local mode\n",
    "subprocess.run(\"./setup.sh\", shell=True)"
   ]
  },
  {
   "cell_type": "code",
   "execution_count": 2,
   "metadata": {},
   "outputs": [
    {
     "data": {
      "text/plain": [
       "CompletedProcess(args='apt install unzip', returncode=127)"
      ]
     },
     "execution_count": 2,
     "metadata": {},
     "output_type": "execute_result"
    }
   ],
   "source": [
    "# For Studio\n",
    "subprocess.run(\"apt-get update -y\", shell=True)\n",
    "subprocess.run(\"apt install unzip\", shell=True)"
   ]
  },
  {
   "cell_type": "code",
   "execution_count": 3,
   "metadata": {
    "Collapsed": "false"
   },
   "outputs": [],
   "source": [
    "import os\n",
    "import sys\n",
    "import boto3\n",
    "import sagemaker\n",
    "from time import sleep\n",
    "from collections import Counter\n",
    "import numpy as np\n",
    "import pandas as pd\n",
    "from sagemaker import get_execution_role, local, Model, utils, s3\n",
    "from sagemaker.estimator import Estimator\n",
    "from sagemaker.predictor import Predictor\n",
    "from sagemaker.serializers import CSVSerializer\n",
    "from sagemaker.deserializers import StringDeserializer\n",
    "from sklearn.metrics import accuracy_score, classification_report\n",
    "from IPython.core.display import display, HTML\n",
    "from IPython.core.interactiveshell import InteractiveShell\n",
    "\n",
    "# Print settings\n",
    "InteractiveShell.ast_node_interactivity = \"all\"\n",
    "pd.set_option('display.max_columns', 500)\n",
    "pd.set_option('display.max_rows', 10)\n",
    "\n",
    "# Account/s3 setup\n",
    "session = sagemaker.Session()\n",
    "local_session = local.LocalSession()\n",
    "bucket = session.default_bucket()\n",
    "prefix = 'sagemaker/autogluon-tabular'\n",
    "region = session.boto_region_name\n",
    "role = get_execution_role()\n",
    "client = session.boto_session.client(\n",
    "    \"sts\", region_name=region, endpoint_url=utils.sts_regional_endpoint(region)\n",
    "    )\n",
    "account = client.get_caller_identity()['Account']\n",
    "\n",
    "registry_uri_training = sagemaker.image_uris.retrieve('mxnet', region, version= '1.7.0', py_version='py3', instance_type='ml.m5.2xlarge', image_scope='training')\n",
    "registry_uri_inference = sagemaker.image_uris.retrieve('mxnet', region, version= '1.7.0', py_version='py3', instance_type='ml.m5.2xlarge', image_scope='inference')\n",
    "ecr_uri_prefix = account +'.'+'.'.join(registry_uri_training.split('/')[0].split('.')[1:])"
   ]
  },
  {
   "cell_type": "markdown",
   "metadata": {
    "Collapsed": "false"
   },
   "source": [
    "### Build docker images"
   ]
  },
  {
   "cell_type": "markdown",
   "metadata": {
    "Collapsed": "false"
   },
   "source": [
    "Build the training/inference image and push to ECR"
   ]
  },
  {
   "cell_type": "code",
   "execution_count": 4,
   "metadata": {
    "Collapsed": "false"
   },
   "outputs": [],
   "source": [
    "training_algorithm_name = 'autogluon-sagemaker-training'\n",
    "inference_algorithm_name = 'autogluon-sagemaker-inference'"
   ]
  },
  {
   "cell_type": "markdown",
   "metadata": {},
   "source": [
    "First, you may want to remove existing docker images to make a room to build autogluon containers."
   ]
  },
  {
   "cell_type": "code",
   "execution_count": 5,
   "metadata": {},
   "outputs": [
    {
     "data": {
      "text/plain": [
       "CompletedProcess(args='docker system prune -af', returncode=0)"
      ]
     },
     "execution_count": 5,
     "metadata": {},
     "output_type": "execute_result"
    }
   ],
   "source": [
    "subprocess.run(\"docker system prune -af\", shell=True)"
   ]
  },
  {
   "cell_type": "code",
   "execution_count": 6,
   "metadata": {
    "Collapsed": "false",
    "scrolled": true
   },
   "outputs": [
    {
     "data": {
      "text/plain": [
       "CompletedProcess(args='/bin/bash ./container-training/build_push_training.sh 332270294944 us-east-2 autogluon-sagemaker-training 332270294944.dkr.ecr.us-east-2.amazonaws.com 763104351884 763104351884.dkr.ecr.us-east-2.amazonaws.com/mxnet-training:1.7.0-cpu-py3', returncode=0)"
      ]
     },
     "execution_count": 6,
     "metadata": {},
     "output_type": "execute_result"
    },
    {
     "data": {
      "text/plain": [
       "CompletedProcess(args='docker system prune -af', returncode=0)"
      ]
     },
     "execution_count": 6,
     "metadata": {},
     "output_type": "execute_result"
    }
   ],
   "source": [
    "subprocess.run(f\"/bin/bash ./container-training/build_push_training.sh {account} {region} {training_algorithm_name} {ecr_uri_prefix} {registry_uri_training.split('/')[0].split('.')[0]} {registry_uri_training}\", shell=True)\n",
    "subprocess.run(\"docker system prune -af\", shell=True)"
   ]
  },
  {
   "cell_type": "code",
   "execution_count": 7,
   "metadata": {},
   "outputs": [
    {
     "data": {
      "text/plain": [
       "CompletedProcess(args='/bin/bash ./container-inference/build_push_inference.sh 332270294944 us-east-2 autogluon-sagemaker-inference 332270294944.dkr.ecr.us-east-2.amazonaws.com 763104351884 763104351884.dkr.ecr.us-east-2.amazonaws.com/mxnet-inference:1.7.0-cpu-py3', returncode=0)"
      ]
     },
     "execution_count": 7,
     "metadata": {},
     "output_type": "execute_result"
    },
    {
     "data": {
      "text/plain": [
       "CompletedProcess(args='docker system prune -af', returncode=0)"
      ]
     },
     "execution_count": 7,
     "metadata": {},
     "output_type": "execute_result"
    }
   ],
   "source": [
    "subprocess.run(f\"/bin/bash ./container-inference/build_push_inference.sh {account} {region} {inference_algorithm_name} {ecr_uri_prefix} {registry_uri_training.split('/')[0].split('.')[0]} {registry_uri_inference}\", shell=True)\n",
    "subprocess.run(\"docker system prune -af\", shell=True)"
   ]
  },
  {
   "cell_type": "markdown",
   "metadata": {},
   "source": [
    "### Alternative way of building docker images using sm-docker"
   ]
  },
  {
   "cell_type": "markdown",
   "metadata": {},
   "source": [
    "The new Amazon SageMaker Studio Image Build convenience package allows data scientists and developers to easily build custom container images from your Studio notebooks via a new CLI. \n",
    "Newly built Docker images are tagged and pushed to Amazon ECR. \n",
    "\n",
    "To use the CLI, you need to ensure the Amazon SageMaker execution role used by your Studio notebook environment (or another AWS Identity and Access Management (IAM) role, if you prefer) has the required permissions to interact with the resources used by the CLI, including access to CodeBuild and Amazon ECR. Your role should have a trust policy with CodeBuild. \n",
    "\n",
    "You also need to make sure the appropriate permissions are included in your role to run the build in CodeBuild, create a repository in Amazon ECR, and push images to that repository. \n",
    "\n",
    "See also: https://aws.amazon.com/blogs/machine-learning/using-the-amazon-sagemaker-studio-image-build-cli-to-build-container-images-from-your-studio-notebooks/"
   ]
  },
  {
   "cell_type": "code",
   "execution_count": 8,
   "metadata": {},
   "outputs": [],
   "source": [
    "#subprocess.run(\"pip install sagemaker-studio-image-build\", shell=True)"
   ]
  },
  {
   "cell_type": "code",
   "execution_count": 9,
   "metadata": {},
   "outputs": [
    {
     "data": {
      "text/plain": [
       "\"\\ntraining_repo_name = training_algorithm_name + ':latest'\\ntraining_repo_name  \\n\\n!sm-docker build . --repository {training_repo_name} --file ./container-training/Dockerfile.training --build-arg REGISTRY_URI={registry_uri_training}\\n\\ninference_repo_name = inference_algorithm_name + ':latest'\\ninference_repo_name  \\n\\n!sm-docker build . --repository {inference_repo_name} --file ./container-inference/Dockerfile.inference --build-arg REGISTRY_URI={registry_uri_inference}\\n\""
      ]
     },
     "execution_count": 9,
     "metadata": {},
     "output_type": "execute_result"
    }
   ],
   "source": [
    "'''\n",
    "training_repo_name = training_algorithm_name + ':latest'\n",
    "training_repo_name  \n",
    "\n",
    "!sm-docker build . --repository {training_repo_name} \\\n",
    "--file ./container-training/Dockerfile.training --build-arg REGISTRY_URI={registry_uri_training}\n",
    "\n",
    "inference_repo_name = inference_algorithm_name + ':latest'\n",
    "inference_repo_name  \n",
    "\n",
    "!sm-docker build . --repository {inference_repo_name} \\\n",
    "--file ./container-inference/Dockerfile.inference --build-arg REGISTRY_URI={registry_uri_inference}\n",
    "'''\n"
   ]
  },
  {
   "cell_type": "markdown",
   "metadata": {
    "Collapsed": "false"
   },
   "source": [
    "### Get the data"
   ]
  },
  {
   "cell_type": "markdown",
   "metadata": {
    "Collapsed": "false"
   },
   "source": [
    "In this example we'll use the direct-marketing dataset to build a binary classification model that predicts whether customers will accept or decline a marketing offer.  \n",
    "First we'll download the data and split it into train and test sets. AutoGluon does not require a separate validation set (it uses bagged k-fold cross-validation)."
   ]
  },
  {
   "cell_type": "code",
   "execution_count": 10,
   "metadata": {
    "Collapsed": "false"
   },
   "outputs": [
    {
     "data": {
      "text/plain": [
       "CompletedProcess(args='aws s3 cp --region us-east-2 s3://sagemaker-sample-data-us-east-2/autopilot/direct_marketing/bank-additional.zip .', returncode=0)"
      ]
     },
     "execution_count": 10,
     "metadata": {},
     "output_type": "execute_result"
    },
    {
     "data": {
      "text/plain": [
       "CompletedProcess(args='unzip -qq -o bank-additional.zip', returncode=0)"
      ]
     },
     "execution_count": 10,
     "metadata": {},
     "output_type": "execute_result"
    },
    {
     "data": {
      "text/plain": [
       "CompletedProcess(args='rm bank-additional.zip', returncode=0)"
      ]
     },
     "execution_count": 10,
     "metadata": {},
     "output_type": "execute_result"
    }
   ],
   "source": [
    "# Download and unzip the data\n",
    "subprocess.run(f\"aws s3 cp --region {region} s3://sagemaker-sample-data-{region}/autopilot/direct_marketing/bank-additional.zip .\", shell=True)\n",
    "subprocess.run(\"unzip -qq -o bank-additional.zip\", shell=True)\n",
    "subprocess.run(\"rm bank-additional.zip\", shell=True)\n",
    "\n",
    "local_data_path = './bank-additional/bank-additional-full.csv'\n",
    "data = pd.read_csv(local_data_path)\n",
    "\n",
    "# Split train/test data\n",
    "train = data.sample(frac=0.7, random_state=42)\n",
    "test = data.drop(train.index)\n",
    "\n",
    "# Split test X/y\n",
    "label = 'y'\n",
    "y_test = test[label]\n",
    "X_test = test.drop(columns=[label])"
   ]
  },
  {
   "cell_type": "markdown",
   "metadata": {
    "Collapsed": "false"
   },
   "source": [
    "##### Check the data"
   ]
  },
  {
   "cell_type": "code",
   "execution_count": 11,
   "metadata": {
    "Collapsed": "false"
   },
   "outputs": [
    {
     "data": {
      "text/html": [
       "<div>\n",
       "<style scoped>\n",
       "    .dataframe tbody tr th:only-of-type {\n",
       "        vertical-align: middle;\n",
       "    }\n",
       "\n",
       "    .dataframe tbody tr th {\n",
       "        vertical-align: top;\n",
       "    }\n",
       "\n",
       "    .dataframe thead th {\n",
       "        text-align: right;\n",
       "    }\n",
       "</style>\n",
       "<table border=\"1\" class=\"dataframe\">\n",
       "  <thead>\n",
       "    <tr style=\"text-align: right;\">\n",
       "      <th></th>\n",
       "      <th>age</th>\n",
       "      <th>job</th>\n",
       "      <th>marital</th>\n",
       "      <th>education</th>\n",
       "      <th>default</th>\n",
       "      <th>housing</th>\n",
       "      <th>loan</th>\n",
       "      <th>contact</th>\n",
       "      <th>month</th>\n",
       "      <th>day_of_week</th>\n",
       "      <th>duration</th>\n",
       "      <th>campaign</th>\n",
       "      <th>pdays</th>\n",
       "      <th>previous</th>\n",
       "      <th>poutcome</th>\n",
       "      <th>emp.var.rate</th>\n",
       "      <th>cons.price.idx</th>\n",
       "      <th>cons.conf.idx</th>\n",
       "      <th>euribor3m</th>\n",
       "      <th>nr.employed</th>\n",
       "      <th>y</th>\n",
       "    </tr>\n",
       "  </thead>\n",
       "  <tbody>\n",
       "    <tr>\n",
       "      <th>32884</th>\n",
       "      <td>57</td>\n",
       "      <td>technician</td>\n",
       "      <td>married</td>\n",
       "      <td>high.school</td>\n",
       "      <td>no</td>\n",
       "      <td>no</td>\n",
       "      <td>yes</td>\n",
       "      <td>cellular</td>\n",
       "      <td>may</td>\n",
       "      <td>mon</td>\n",
       "      <td>371</td>\n",
       "      <td>1</td>\n",
       "      <td>999</td>\n",
       "      <td>1</td>\n",
       "      <td>failure</td>\n",
       "      <td>-1.8</td>\n",
       "      <td>92.893</td>\n",
       "      <td>-46.2</td>\n",
       "      <td>1.299</td>\n",
       "      <td>5099.1</td>\n",
       "      <td>no</td>\n",
       "    </tr>\n",
       "    <tr>\n",
       "      <th>3169</th>\n",
       "      <td>55</td>\n",
       "      <td>unknown</td>\n",
       "      <td>married</td>\n",
       "      <td>unknown</td>\n",
       "      <td>unknown</td>\n",
       "      <td>yes</td>\n",
       "      <td>no</td>\n",
       "      <td>telephone</td>\n",
       "      <td>may</td>\n",
       "      <td>thu</td>\n",
       "      <td>285</td>\n",
       "      <td>2</td>\n",
       "      <td>999</td>\n",
       "      <td>0</td>\n",
       "      <td>nonexistent</td>\n",
       "      <td>1.1</td>\n",
       "      <td>93.994</td>\n",
       "      <td>-36.4</td>\n",
       "      <td>4.860</td>\n",
       "      <td>5191.0</td>\n",
       "      <td>no</td>\n",
       "    </tr>\n",
       "    <tr>\n",
       "      <th>32206</th>\n",
       "      <td>33</td>\n",
       "      <td>blue-collar</td>\n",
       "      <td>married</td>\n",
       "      <td>basic.9y</td>\n",
       "      <td>no</td>\n",
       "      <td>no</td>\n",
       "      <td>no</td>\n",
       "      <td>cellular</td>\n",
       "      <td>may</td>\n",
       "      <td>fri</td>\n",
       "      <td>52</td>\n",
       "      <td>1</td>\n",
       "      <td>999</td>\n",
       "      <td>1</td>\n",
       "      <td>failure</td>\n",
       "      <td>-1.8</td>\n",
       "      <td>92.893</td>\n",
       "      <td>-46.2</td>\n",
       "      <td>1.313</td>\n",
       "      <td>5099.1</td>\n",
       "      <td>no</td>\n",
       "    </tr>\n",
       "  </tbody>\n",
       "</table>\n",
       "</div>"
      ],
      "text/plain": [
       "       age          job  marital    education  default housing loan  \\\n",
       "32884   57   technician  married  high.school       no      no  yes   \n",
       "3169    55      unknown  married      unknown  unknown     yes   no   \n",
       "32206   33  blue-collar  married     basic.9y       no      no   no   \n",
       "\n",
       "         contact month day_of_week  duration  campaign  pdays  previous  \\\n",
       "32884   cellular   may         mon       371         1    999         1   \n",
       "3169   telephone   may         thu       285         2    999         0   \n",
       "32206   cellular   may         fri        52         1    999         1   \n",
       "\n",
       "          poutcome  emp.var.rate  cons.price.idx  cons.conf.idx  euribor3m  \\\n",
       "32884      failure          -1.8          92.893          -46.2      1.299   \n",
       "3169   nonexistent           1.1          93.994          -36.4      4.860   \n",
       "32206      failure          -1.8          92.893          -46.2      1.313   \n",
       "\n",
       "       nr.employed   y  \n",
       "32884       5099.1  no  \n",
       "3169        5191.0  no  \n",
       "32206       5099.1  no  "
      ]
     },
     "execution_count": 11,
     "metadata": {},
     "output_type": "execute_result"
    },
    {
     "data": {
      "text/plain": [
       "(28832, 21)"
      ]
     },
     "execution_count": 11,
     "metadata": {},
     "output_type": "execute_result"
    },
    {
     "data": {
      "text/html": [
       "<div>\n",
       "<style scoped>\n",
       "    .dataframe tbody tr th:only-of-type {\n",
       "        vertical-align: middle;\n",
       "    }\n",
       "\n",
       "    .dataframe tbody tr th {\n",
       "        vertical-align: top;\n",
       "    }\n",
       "\n",
       "    .dataframe thead th {\n",
       "        text-align: right;\n",
       "    }\n",
       "</style>\n",
       "<table border=\"1\" class=\"dataframe\">\n",
       "  <thead>\n",
       "    <tr style=\"text-align: right;\">\n",
       "      <th></th>\n",
       "      <th>age</th>\n",
       "      <th>job</th>\n",
       "      <th>marital</th>\n",
       "      <th>education</th>\n",
       "      <th>default</th>\n",
       "      <th>housing</th>\n",
       "      <th>loan</th>\n",
       "      <th>contact</th>\n",
       "      <th>month</th>\n",
       "      <th>day_of_week</th>\n",
       "      <th>duration</th>\n",
       "      <th>campaign</th>\n",
       "      <th>pdays</th>\n",
       "      <th>previous</th>\n",
       "      <th>poutcome</th>\n",
       "      <th>emp.var.rate</th>\n",
       "      <th>cons.price.idx</th>\n",
       "      <th>cons.conf.idx</th>\n",
       "      <th>euribor3m</th>\n",
       "      <th>nr.employed</th>\n",
       "      <th>y</th>\n",
       "    </tr>\n",
       "  </thead>\n",
       "  <tbody>\n",
       "    <tr>\n",
       "      <th>2</th>\n",
       "      <td>37</td>\n",
       "      <td>services</td>\n",
       "      <td>married</td>\n",
       "      <td>high.school</td>\n",
       "      <td>no</td>\n",
       "      <td>yes</td>\n",
       "      <td>no</td>\n",
       "      <td>telephone</td>\n",
       "      <td>may</td>\n",
       "      <td>mon</td>\n",
       "      <td>226</td>\n",
       "      <td>1</td>\n",
       "      <td>999</td>\n",
       "      <td>0</td>\n",
       "      <td>nonexistent</td>\n",
       "      <td>1.1</td>\n",
       "      <td>93.994</td>\n",
       "      <td>-36.4</td>\n",
       "      <td>4.857</td>\n",
       "      <td>5191.0</td>\n",
       "      <td>no</td>\n",
       "    </tr>\n",
       "    <tr>\n",
       "      <th>9</th>\n",
       "      <td>25</td>\n",
       "      <td>services</td>\n",
       "      <td>single</td>\n",
       "      <td>high.school</td>\n",
       "      <td>no</td>\n",
       "      <td>yes</td>\n",
       "      <td>no</td>\n",
       "      <td>telephone</td>\n",
       "      <td>may</td>\n",
       "      <td>mon</td>\n",
       "      <td>50</td>\n",
       "      <td>1</td>\n",
       "      <td>999</td>\n",
       "      <td>0</td>\n",
       "      <td>nonexistent</td>\n",
       "      <td>1.1</td>\n",
       "      <td>93.994</td>\n",
       "      <td>-36.4</td>\n",
       "      <td>4.857</td>\n",
       "      <td>5191.0</td>\n",
       "      <td>no</td>\n",
       "    </tr>\n",
       "    <tr>\n",
       "      <th>10</th>\n",
       "      <td>41</td>\n",
       "      <td>blue-collar</td>\n",
       "      <td>married</td>\n",
       "      <td>unknown</td>\n",
       "      <td>unknown</td>\n",
       "      <td>no</td>\n",
       "      <td>no</td>\n",
       "      <td>telephone</td>\n",
       "      <td>may</td>\n",
       "      <td>mon</td>\n",
       "      <td>55</td>\n",
       "      <td>1</td>\n",
       "      <td>999</td>\n",
       "      <td>0</td>\n",
       "      <td>nonexistent</td>\n",
       "      <td>1.1</td>\n",
       "      <td>93.994</td>\n",
       "      <td>-36.4</td>\n",
       "      <td>4.857</td>\n",
       "      <td>5191.0</td>\n",
       "      <td>no</td>\n",
       "    </tr>\n",
       "  </tbody>\n",
       "</table>\n",
       "</div>"
      ],
      "text/plain": [
       "    age          job  marital    education  default housing loan    contact  \\\n",
       "2    37     services  married  high.school       no     yes   no  telephone   \n",
       "9    25     services   single  high.school       no     yes   no  telephone   \n",
       "10   41  blue-collar  married      unknown  unknown      no   no  telephone   \n",
       "\n",
       "   month day_of_week  duration  campaign  pdays  previous     poutcome  \\\n",
       "2    may         mon       226         1    999         0  nonexistent   \n",
       "9    may         mon        50         1    999         0  nonexistent   \n",
       "10   may         mon        55         1    999         0  nonexistent   \n",
       "\n",
       "    emp.var.rate  cons.price.idx  cons.conf.idx  euribor3m  nr.employed   y  \n",
       "2            1.1          93.994          -36.4      4.857       5191.0  no  \n",
       "9            1.1          93.994          -36.4      4.857       5191.0  no  \n",
       "10           1.1          93.994          -36.4      4.857       5191.0  no  "
      ]
     },
     "execution_count": 11,
     "metadata": {},
     "output_type": "execute_result"
    },
    {
     "data": {
      "text/plain": [
       "(12356, 21)"
      ]
     },
     "execution_count": 11,
     "metadata": {},
     "output_type": "execute_result"
    },
    {
     "data": {
      "text/html": [
       "<div>\n",
       "<style scoped>\n",
       "    .dataframe tbody tr th:only-of-type {\n",
       "        vertical-align: middle;\n",
       "    }\n",
       "\n",
       "    .dataframe tbody tr th {\n",
       "        vertical-align: top;\n",
       "    }\n",
       "\n",
       "    .dataframe thead th {\n",
       "        text-align: right;\n",
       "    }\n",
       "</style>\n",
       "<table border=\"1\" class=\"dataframe\">\n",
       "  <thead>\n",
       "    <tr style=\"text-align: right;\">\n",
       "      <th></th>\n",
       "      <th>age</th>\n",
       "      <th>job</th>\n",
       "      <th>marital</th>\n",
       "      <th>education</th>\n",
       "      <th>default</th>\n",
       "      <th>housing</th>\n",
       "      <th>loan</th>\n",
       "      <th>contact</th>\n",
       "      <th>month</th>\n",
       "      <th>day_of_week</th>\n",
       "      <th>duration</th>\n",
       "      <th>campaign</th>\n",
       "      <th>pdays</th>\n",
       "      <th>previous</th>\n",
       "      <th>poutcome</th>\n",
       "      <th>emp.var.rate</th>\n",
       "      <th>cons.price.idx</th>\n",
       "      <th>cons.conf.idx</th>\n",
       "      <th>euribor3m</th>\n",
       "      <th>nr.employed</th>\n",
       "    </tr>\n",
       "  </thead>\n",
       "  <tbody>\n",
       "    <tr>\n",
       "      <th>2</th>\n",
       "      <td>37</td>\n",
       "      <td>services</td>\n",
       "      <td>married</td>\n",
       "      <td>high.school</td>\n",
       "      <td>no</td>\n",
       "      <td>yes</td>\n",
       "      <td>no</td>\n",
       "      <td>telephone</td>\n",
       "      <td>may</td>\n",
       "      <td>mon</td>\n",
       "      <td>226</td>\n",
       "      <td>1</td>\n",
       "      <td>999</td>\n",
       "      <td>0</td>\n",
       "      <td>nonexistent</td>\n",
       "      <td>1.1</td>\n",
       "      <td>93.994</td>\n",
       "      <td>-36.4</td>\n",
       "      <td>4.857</td>\n",
       "      <td>5191.0</td>\n",
       "    </tr>\n",
       "    <tr>\n",
       "      <th>9</th>\n",
       "      <td>25</td>\n",
       "      <td>services</td>\n",
       "      <td>single</td>\n",
       "      <td>high.school</td>\n",
       "      <td>no</td>\n",
       "      <td>yes</td>\n",
       "      <td>no</td>\n",
       "      <td>telephone</td>\n",
       "      <td>may</td>\n",
       "      <td>mon</td>\n",
       "      <td>50</td>\n",
       "      <td>1</td>\n",
       "      <td>999</td>\n",
       "      <td>0</td>\n",
       "      <td>nonexistent</td>\n",
       "      <td>1.1</td>\n",
       "      <td>93.994</td>\n",
       "      <td>-36.4</td>\n",
       "      <td>4.857</td>\n",
       "      <td>5191.0</td>\n",
       "    </tr>\n",
       "    <tr>\n",
       "      <th>10</th>\n",
       "      <td>41</td>\n",
       "      <td>blue-collar</td>\n",
       "      <td>married</td>\n",
       "      <td>unknown</td>\n",
       "      <td>unknown</td>\n",
       "      <td>no</td>\n",
       "      <td>no</td>\n",
       "      <td>telephone</td>\n",
       "      <td>may</td>\n",
       "      <td>mon</td>\n",
       "      <td>55</td>\n",
       "      <td>1</td>\n",
       "      <td>999</td>\n",
       "      <td>0</td>\n",
       "      <td>nonexistent</td>\n",
       "      <td>1.1</td>\n",
       "      <td>93.994</td>\n",
       "      <td>-36.4</td>\n",
       "      <td>4.857</td>\n",
       "      <td>5191.0</td>\n",
       "    </tr>\n",
       "  </tbody>\n",
       "</table>\n",
       "</div>"
      ],
      "text/plain": [
       "    age          job  marital    education  default housing loan    contact  \\\n",
       "2    37     services  married  high.school       no     yes   no  telephone   \n",
       "9    25     services   single  high.school       no     yes   no  telephone   \n",
       "10   41  blue-collar  married      unknown  unknown      no   no  telephone   \n",
       "\n",
       "   month day_of_week  duration  campaign  pdays  previous     poutcome  \\\n",
       "2    may         mon       226         1    999         0  nonexistent   \n",
       "9    may         mon        50         1    999         0  nonexistent   \n",
       "10   may         mon        55         1    999         0  nonexistent   \n",
       "\n",
       "    emp.var.rate  cons.price.idx  cons.conf.idx  euribor3m  nr.employed  \n",
       "2            1.1          93.994          -36.4      4.857       5191.0  \n",
       "9            1.1          93.994          -36.4      4.857       5191.0  \n",
       "10           1.1          93.994          -36.4      4.857       5191.0  "
      ]
     },
     "execution_count": 11,
     "metadata": {},
     "output_type": "execute_result"
    },
    {
     "data": {
      "text/plain": [
       "(12356, 20)"
      ]
     },
     "execution_count": 11,
     "metadata": {},
     "output_type": "execute_result"
    }
   ],
   "source": [
    "train.head(3)\n",
    "train.shape\n",
    "\n",
    "test.head(3)\n",
    "test.shape\n",
    "\n",
    "X_test.head(3)\n",
    "X_test.shape"
   ]
  },
  {
   "cell_type": "markdown",
   "metadata": {
    "Collapsed": "false"
   },
   "source": [
    "Upload the data to s3"
   ]
  },
  {
   "cell_type": "code",
   "execution_count": 12,
   "metadata": {
    "Collapsed": "false"
   },
   "outputs": [],
   "source": [
    "train_file = 'train.csv'\n",
    "train.to_csv(train_file,index=False)\n",
    "train_s3_path = session.upload_data(train_file, key_prefix='{}/data'.format(prefix))\n",
    "\n",
    "test_file = 'test.csv'\n",
    "test.to_csv(test_file,index=False)\n",
    "test_s3_path = session.upload_data(test_file, key_prefix='{}/data'.format(prefix))\n",
    "\n",
    "X_test_file = 'X_test.csv'\n",
    "X_test.to_csv(X_test_file,index=False)\n",
    "X_test_s3_path = session.upload_data(X_test_file, key_prefix='{}/data'.format(prefix))"
   ]
  },
  {
   "cell_type": "markdown",
   "metadata": {
    "Collapsed": "false"
   },
   "source": [
    "## Hyperparameter Selection\n",
    "\n",
    "The minimum required settings for training is just a target label, `init_args['label']`.\n",
    "\n",
    "Additional optional hyperparameters can be passed to the `autogluon.tabular.TabularPredictor.fit` function via `fit_args`.\n",
    "\n",
    "Below shows a more in depth example of AutoGluon-Tabular hyperparameters from the example [Predicting Columns in a Table - In Depth](https://auto.gluon.ai/stable/tutorials/tabular_prediction/tabular-indepth.html). Please see [fit parameters](https://auto.gluon.ai/stable/_modules/autogluon/tabular/predictor/predictor.html#TabularPredictor) for further information. Note that in order for hyperparameter ranges to work in SageMaker, values passed to the `fit_args['hyperparameters']` must be represented as strings.\n",
    "\n",
    "```python\n",
    "nn_options = {\n",
    "    'num_epochs': \"10\",\n",
    "    'learning_rate': \"ag.space.Real(1e-4, 1e-2, default=5e-4, log=True)\",\n",
    "    'activation': \"ag.space.Categorical('relu', 'softrelu', 'tanh')\",\n",
    "    'layers': \"ag.space.Categorical([100],[1000],[200,100],[300,200,100])\",\n",
    "    'dropout_prob': \"ag.space.Real(0.0, 0.5, default=0.1)\"\n",
    "}\n",
    "\n",
    "gbm_options = {\n",
    "    'num_boost_round': \"100\",\n",
    "    'num_leaves': \"ag.space.Int(lower=26, upper=66, default=36)\"\n",
    "}\n",
    "\n",
    "model_hps = {'NN': nn_options, 'GBM': gbm_options} \n",
    "\n",
    "init_args = {\n",
    "  'eval_metric' : 'roc_auc'  \n",
    "  'label': 'y'\n",
    "}\n",
    "\n",
    "fit_args = {\n",
    "  'presets': ['best_quality', 'optimize_for_deployment'],\n",
    "  'time_limits': 60*10,\n",
    "  'hyperparameters': model_hps,\n",
    "  'hyperparameter_tune': True,\n",
    "  'search_strategy': 'skopt'\n",
    "}\n",
    "\n",
    "\n",
    "hyperparameters = {\n",
    "  'fit_args': fit_args,\n",
    "  'feature_importance': True\n",
    "}\n",
    "```\n",
    "**Note:** Your hyperparameter choices may affect the size of the model package, which could result in additional time taken to upload your model and complete training. Including `'optimize_for_deployment'` in the list of `fit_args['presets']` is recommended to greatly reduce upload times.\n",
    "\n",
    "<br>"
   ]
  },
  {
   "cell_type": "code",
   "execution_count": 13,
   "metadata": {
    "Collapsed": "false"
   },
   "outputs": [],
   "source": [
    "# Define required label and optional additional parameters\n",
    "init_args = {\n",
    "  'label': 'y'\n",
    "}\n",
    "\n",
    "# Define additional parameters\n",
    "fit_args = {\n",
    "  # Adding 'best_quality' to presets list will result in better performance (but longer runtime)\n",
    "  'presets': ['optimize_for_deployment'],\n",
    "}\n",
    "\n",
    "# Pass fit_args to SageMaker estimator hyperparameters\n",
    "hyperparameters = {\n",
    "  'init_args': init_args,   \n",
    "  'fit_args': fit_args,\n",
    "  'feature_importance': True\n",
    "}\n",
    "\n",
    "tags = [{\n",
    "    'Key' : 'AlgorithmName',\n",
    "    'Value' : 'AutoGluon-Tabular'\n",
    "}]"
   ]
  },
  {
   "cell_type": "markdown",
   "metadata": {
    "Collapsed": "false"
   },
   "source": [
    "## Train\n",
    "\n",
    "For local training set `train_instance_type` to `local` .   \n",
    "For non-local training the recommended instance type is `ml.m5.2xlarge`.   \n",
    "\n",
    "**Note:** Depending on how many underlying models are trained, `train_volume_size` may need to be increased so that they all fit on disk."
   ]
  },
  {
   "cell_type": "code",
   "execution_count": 14,
   "metadata": {
    "Collapsed": "false",
    "scrolled": false
   },
   "outputs": [
    {
     "name": "stdout",
     "output_type": "stream",
     "text": [
      "2021-04-10 02:18:23 Starting - Starting the training job...\n",
      "2021-04-10 02:18:25 Starting - Launching requested ML instancesProfilerReport-1618021103: InProgress\n",
      "......\n",
      "2021-04-10 02:19:49 Starting - Preparing the instances for training...\n",
      "2021-04-10 02:20:23 Downloading - Downloading input data\n",
      "2021-04-10 02:20:23 Training - Downloading the training image............\n",
      "2021-04-10 02:22:16 Training - Training image download completed. Training in progress.\u001b[34m2021-04-10 02:22:16,019 sagemaker-training-toolkit INFO     Imported framework sagemaker_mxnet_container.training\u001b[0m\n",
      "\u001b[34m2021-04-10 02:22:16,021 sagemaker-training-toolkit INFO     No GPUs detected (normal if no gpus installed)\u001b[0m\n",
      "\u001b[34m2021-04-10 02:22:16,022 sagemaker-training-toolkit INFO     Failed to parse hyperparameter init_args value {'label': 'y'} to Json.\u001b[0m\n",
      "\u001b[34mReturning the value itself\u001b[0m\n",
      "\u001b[34m2021-04-10 02:22:16,022 sagemaker-training-toolkit INFO     Failed to parse hyperparameter fit_args value {'presets': ['optimize_for_deployment']} to Json.\u001b[0m\n",
      "\u001b[34mReturning the value itself\u001b[0m\n",
      "\u001b[34m2021-04-10 02:22:16,022 sagemaker-training-toolkit INFO     Failed to parse hyperparameter feature_importance value True to Json.\u001b[0m\n",
      "\u001b[34mReturning the value itself\u001b[0m\n",
      "\u001b[34m2021-04-10 02:22:16,033 sagemaker_mxnet_container.training INFO     MXNet training environment: {'SM_HOSTS': '[\"algo-1\"]', 'SM_NETWORK_INTERFACE_NAME': 'eth0', 'SM_HPS': '{\"feature_importance\":\"True\",\"fit_args\":\"{\\'presets\\': [\\'optimize_for_deployment\\']}\",\"init_args\":\"{\\'label\\': \\'y\\'}\"}', 'SM_USER_ENTRY_POINT': 'train.py', 'SM_FRAMEWORK_PARAMS': '{}', 'SM_RESOURCE_CONFIG': '{\"current_host\":\"algo-1\",\"hosts\":[\"algo-1\"],\"network_interface_name\":\"eth0\"}', 'SM_INPUT_DATA_CONFIG': '{\"testing\":{\"RecordWrapperType\":\"None\",\"S3DistributionType\":\"FullyReplicated\",\"TrainingInputMode\":\"File\"},\"training\":{\"RecordWrapperType\":\"None\",\"S3DistributionType\":\"FullyReplicated\",\"TrainingInputMode\":\"File\"}}', 'SM_OUTPUT_DATA_DIR': '/opt/ml/output/data', 'SM_CHANNELS': '[\"testing\",\"training\"]', 'SM_CURRENT_HOST': 'algo-1', 'SM_MODULE_NAME': 'train', 'SM_LOG_LEVEL': '20', 'SM_FRAMEWORK_MODULE': 'sagemaker_mxnet_container.training:main', 'SM_INPUT_DIR': '/opt/ml/input', 'SM_INPUT_CONFIG_DIR': '/opt/ml/input/config', 'SM_OUTPUT_DIR': '/opt/ml/output', 'SM_NUM_CPUS': '8', 'SM_NUM_GPUS': '0', 'SM_MODEL_DIR': '/opt/ml/model', 'SM_MODULE_DIR': '/opt/ml/code', 'SM_TRAINING_ENV': '{\"additional_framework_parameters\":{},\"channel_input_dirs\":{\"testing\":\"/opt/ml/input/data/testing\",\"training\":\"/opt/ml/input/data/training\"},\"current_host\":\"algo-1\",\"framework_module\":\"sagemaker_mxnet_container.training:main\",\"hosts\":[\"algo-1\"],\"hyperparameters\":{\"feature_importance\":\"True\",\"fit_args\":\"{\\'presets\\': [\\'optimize_for_deployment\\']}\",\"init_args\":\"{\\'label\\': \\'y\\'}\"},\"input_config_dir\":\"/opt/ml/input/config\",\"input_data_config\":{\"testing\":{\"RecordWrapperType\":\"None\",\"S3DistributionType\":\"FullyReplicated\",\"TrainingInputMode\":\"File\"},\"training\":{\"RecordWrapperType\":\"None\",\"S3DistributionType\":\"FullyReplicated\",\"TrainingInputMode\":\"File\"}},\"input_dir\":\"/opt/ml/input\",\"is_master\":true,\"job_name\":\"autogluon-sagemaker-training-2021-04-10-02-18-23-594\",\"log_level\":20,\"master_hostname\":\"algo-1\",\"model_dir\":\"/opt/ml/model\",\"module_dir\":\"/opt/ml/code\",\"module_name\":\"train\",\"network_interface_name\":\"eth0\",\"num_cpus\":8,\"num_gpus\":0,\"output_data_dir\":\"/opt/ml/output/data\",\"output_dir\":\"/opt/ml/output\",\"output_intermediate_dir\":\"/opt/ml/output/intermediate\",\"resource_config\":{\"current_host\":\"algo-1\",\"hosts\":[\"algo-1\"],\"network_interface_name\":\"eth0\"},\"user_entry_point\":\"train.py\"}', 'SM_USER_ARGS': '[\"--feature_importance\",\"True\",\"--fit_args\",\"{\\'presets\\': [\\'optimize_for_deployment\\']}\",\"--init_args\",\"{\\'label\\': \\'y\\'}\"]', 'SM_OUTPUT_INTERMEDIATE_DIR': '/opt/ml/output/intermediate', 'SM_CHANNEL_TESTING': '/opt/ml/input/data/testing', 'SM_CHANNEL_TRAINING': '/opt/ml/input/data/training', 'SM_HP_INIT_ARGS': \"{'label': 'y'}\", 'SM_HP_FIT_ARGS': \"{'presets': ['optimize_for_deployment']}\", 'SM_HP_FEATURE_IMPORTANCE': 'True'}\u001b[0m\n",
      "\u001b[34m2021-04-10 02:22:16,035 sagemaker-training-toolkit INFO     No GPUs detected (normal if no gpus installed)\u001b[0m\n",
      "\u001b[34m2021-04-10 02:22:16,035 sagemaker-training-toolkit INFO     Failed to parse hyperparameter init_args value {'label': 'y'} to Json.\u001b[0m\n",
      "\u001b[34mReturning the value itself\u001b[0m\n",
      "\u001b[34m2021-04-10 02:22:16,035 sagemaker-training-toolkit INFO     Failed to parse hyperparameter fit_args value {'presets': ['optimize_for_deployment']} to Json.\u001b[0m\n",
      "\u001b[34mReturning the value itself\u001b[0m\n",
      "\u001b[34m2021-04-10 02:22:16,035 sagemaker-training-toolkit INFO     Failed to parse hyperparameter feature_importance value True to Json.\u001b[0m\n",
      "\u001b[34mReturning the value itself\u001b[0m\n",
      "\u001b[34m2021-04-10 02:22:22,273 sagemaker-training-toolkit INFO     No GPUs detected (normal if no gpus installed)\u001b[0m\n",
      "\u001b[34m2021-04-10 02:22:22,274 sagemaker-training-toolkit INFO     Failed to parse hyperparameter init_args value {'label': 'y'} to Json.\u001b[0m\n",
      "\u001b[34mReturning the value itself\u001b[0m\n",
      "\u001b[34m2021-04-10 02:22:22,274 sagemaker-training-toolkit INFO     Failed to parse hyperparameter fit_args value {'presets': ['optimize_for_deployment']} to Json.\u001b[0m\n",
      "\u001b[34mReturning the value itself\u001b[0m\n",
      "\u001b[34m2021-04-10 02:22:22,274 sagemaker-training-toolkit INFO     Failed to parse hyperparameter feature_importance value True to Json.\u001b[0m\n",
      "\u001b[34mReturning the value itself\u001b[0m\n",
      "\u001b[34m2021-04-10 02:22:22,287 sagemaker-training-toolkit INFO     No GPUs detected (normal if no gpus installed)\u001b[0m\n",
      "\u001b[34m2021-04-10 02:22:22,288 sagemaker-training-toolkit INFO     Failed to parse hyperparameter init_args value {'label': 'y'} to Json.\u001b[0m\n",
      "\u001b[34mReturning the value itself\u001b[0m\n",
      "\u001b[34m2021-04-10 02:22:22,288 sagemaker-training-toolkit INFO     Failed to parse hyperparameter fit_args value {'presets': ['optimize_for_deployment']} to Json.\u001b[0m\n",
      "\u001b[34mReturning the value itself\u001b[0m\n",
      "\u001b[34m2021-04-10 02:22:22,288 sagemaker-training-toolkit INFO     Failed to parse hyperparameter feature_importance value True to Json.\u001b[0m\n",
      "\u001b[34mReturning the value itself\u001b[0m\n",
      "\u001b[34m2021-04-10 02:22:22,299 sagemaker-training-toolkit INFO     Invoking user script\n",
      "\u001b[0m\n",
      "\u001b[34mTraining Env:\n",
      "\u001b[0m\n",
      "\u001b[34m{\n",
      "    \"additional_framework_parameters\": {},\n",
      "    \"channel_input_dirs\": {\n",
      "        \"testing\": \"/opt/ml/input/data/testing\",\n",
      "        \"training\": \"/opt/ml/input/data/training\"\n",
      "    },\n",
      "    \"current_host\": \"algo-1\",\n",
      "    \"framework_module\": \"sagemaker_mxnet_container.training:main\",\n",
      "    \"hosts\": [\n",
      "        \"algo-1\"\n",
      "    ],\n",
      "    \"hyperparameters\": {\n",
      "        \"init_args\": \"{'label': 'y'}\",\n",
      "        \"fit_args\": \"{'presets': ['optimize_for_deployment']}\",\n",
      "        \"feature_importance\": \"True\"\n",
      "    },\n",
      "    \"input_config_dir\": \"/opt/ml/input/config\",\n",
      "    \"input_data_config\": {\n",
      "        \"testing\": {\n",
      "            \"TrainingInputMode\": \"File\",\n",
      "            \"S3DistributionType\": \"FullyReplicated\",\n",
      "            \"RecordWrapperType\": \"None\"\n",
      "        },\n",
      "        \"training\": {\n",
      "            \"TrainingInputMode\": \"File\",\n",
      "            \"S3DistributionType\": \"FullyReplicated\",\n",
      "            \"RecordWrapperType\": \"None\"\n",
      "        }\n",
      "    },\n",
      "    \"input_dir\": \"/opt/ml/input\",\n",
      "    \"is_master\": true,\n",
      "    \"job_name\": \"autogluon-sagemaker-training-2021-04-10-02-18-23-594\",\n",
      "    \"log_level\": 20,\n",
      "    \"master_hostname\": \"algo-1\",\n",
      "    \"model_dir\": \"/opt/ml/model\",\n",
      "    \"module_dir\": \"/opt/ml/code\",\n",
      "    \"module_name\": \"train\",\n",
      "    \"network_interface_name\": \"eth0\",\n",
      "    \"num_cpus\": 8,\n",
      "    \"num_gpus\": 0,\n",
      "    \"output_data_dir\": \"/opt/ml/output/data\",\n",
      "    \"output_dir\": \"/opt/ml/output\",\n",
      "    \"output_intermediate_dir\": \"/opt/ml/output/intermediate\",\n",
      "    \"resource_config\": {\n",
      "        \"current_host\": \"algo-1\",\n",
      "        \"hosts\": [\n",
      "            \"algo-1\"\n",
      "        ],\n",
      "        \"network_interface_name\": \"eth0\"\n",
      "    },\n",
      "    \"user_entry_point\": \"train.py\"\u001b[0m\n",
      "\u001b[34m}\n",
      "\u001b[0m\n",
      "\u001b[34mEnvironment variables:\n",
      "\u001b[0m\n",
      "\u001b[34mSM_HOSTS=[\"algo-1\"]\u001b[0m\n",
      "\u001b[34mSM_NETWORK_INTERFACE_NAME=eth0\u001b[0m\n",
      "\u001b[34mSM_HPS={\"feature_importance\":\"True\",\"fit_args\":\"{'presets': ['optimize_for_deployment']}\",\"init_args\":\"{'label': 'y'}\"}\u001b[0m\n",
      "\u001b[34mSM_USER_ENTRY_POINT=train.py\u001b[0m\n",
      "\u001b[34mSM_FRAMEWORK_PARAMS={}\u001b[0m\n",
      "\u001b[34mSM_RESOURCE_CONFIG={\"current_host\":\"algo-1\",\"hosts\":[\"algo-1\"],\"network_interface_name\":\"eth0\"}\u001b[0m\n",
      "\u001b[34mSM_INPUT_DATA_CONFIG={\"testing\":{\"RecordWrapperType\":\"None\",\"S3DistributionType\":\"FullyReplicated\",\"TrainingInputMode\":\"File\"},\"training\":{\"RecordWrapperType\":\"None\",\"S3DistributionType\":\"FullyReplicated\",\"TrainingInputMode\":\"File\"}}\u001b[0m\n",
      "\u001b[34mSM_OUTPUT_DATA_DIR=/opt/ml/output/data\u001b[0m\n",
      "\u001b[34mSM_CHANNELS=[\"testing\",\"training\"]\u001b[0m\n",
      "\u001b[34mSM_CURRENT_HOST=algo-1\u001b[0m\n",
      "\u001b[34mSM_MODULE_NAME=train\u001b[0m\n",
      "\u001b[34mSM_LOG_LEVEL=20\u001b[0m\n",
      "\u001b[34mSM_FRAMEWORK_MODULE=sagemaker_mxnet_container.training:main\u001b[0m\n",
      "\u001b[34mSM_INPUT_DIR=/opt/ml/input\u001b[0m\n",
      "\u001b[34mSM_INPUT_CONFIG_DIR=/opt/ml/input/config\u001b[0m\n",
      "\u001b[34mSM_OUTPUT_DIR=/opt/ml/output\u001b[0m\n",
      "\u001b[34mSM_NUM_CPUS=8\u001b[0m\n",
      "\u001b[34mSM_NUM_GPUS=0\u001b[0m\n",
      "\u001b[34mSM_MODEL_DIR=/opt/ml/model\u001b[0m\n",
      "\u001b[34mSM_MODULE_DIR=/opt/ml/code\u001b[0m\n",
      "\u001b[34mSM_TRAINING_ENV={\"additional_framework_parameters\":{},\"channel_input_dirs\":{\"testing\":\"/opt/ml/input/data/testing\",\"training\":\"/opt/ml/input/data/training\"},\"current_host\":\"algo-1\",\"framework_module\":\"sagemaker_mxnet_container.training:main\",\"hosts\":[\"algo-1\"],\"hyperparameters\":{\"feature_importance\":\"True\",\"fit_args\":\"{'presets': ['optimize_for_deployment']}\",\"init_args\":\"{'label': 'y'}\"},\"input_config_dir\":\"/opt/ml/input/config\",\"input_data_config\":{\"testing\":{\"RecordWrapperType\":\"None\",\"S3DistributionType\":\"FullyReplicated\",\"TrainingInputMode\":\"File\"},\"training\":{\"RecordWrapperType\":\"None\",\"S3DistributionType\":\"FullyReplicated\",\"TrainingInputMode\":\"File\"}},\"input_dir\":\"/opt/ml/input\",\"is_master\":true,\"job_name\":\"autogluon-sagemaker-training-2021-04-10-02-18-23-594\",\"log_level\":20,\"master_hostname\":\"algo-1\",\"model_dir\":\"/opt/ml/model\",\"module_dir\":\"/opt/ml/code\",\"module_name\":\"train\",\"network_interface_name\":\"eth0\",\"num_cpus\":8,\"num_gpus\":0,\"output_data_dir\":\"/opt/ml/output/data\",\"output_dir\":\"/opt/ml/output\",\"output_intermediate_dir\":\"/opt/ml/output/intermediate\",\"resource_config\":{\"current_host\":\"algo-1\",\"hosts\":[\"algo-1\"],\"network_interface_name\":\"eth0\"},\"user_entry_point\":\"train.py\"}\u001b[0m\n",
      "\u001b[34mSM_USER_ARGS=[\"--feature_importance\",\"True\",\"--fit_args\",\"{'presets': ['optimize_for_deployment']}\",\"--init_args\",\"{'label': 'y'}\"]\u001b[0m\n",
      "\u001b[34mSM_OUTPUT_INTERMEDIATE_DIR=/opt/ml/output/intermediate\u001b[0m\n",
      "\u001b[34mSM_CHANNEL_TESTING=/opt/ml/input/data/testing\u001b[0m\n",
      "\u001b[34mSM_CHANNEL_TRAINING=/opt/ml/input/data/training\u001b[0m\n",
      "\u001b[34mSM_HP_INIT_ARGS={'label': 'y'}\u001b[0m\n",
      "\u001b[34mSM_HP_FIT_ARGS={'presets': ['optimize_for_deployment']}\u001b[0m\n",
      "\u001b[34mSM_HP_FEATURE_IMPORTANCE=True\u001b[0m\n",
      "\u001b[34mPYTHONPATH=/opt/ml/code:/usr/local/bin:/usr/local/lib/python36.zip:/usr/local/lib/python3.6:/usr/local/lib/python3.6/lib-dynload:/usr/local/lib/python3.6/site-packages\n",
      "\u001b[0m\n",
      "\u001b[34mInvoking script with the following command:\n",
      "\u001b[0m\n",
      "\u001b[34m/usr/local/bin/python3.6 train.py --feature_importance True --fit_args {'presets': ['optimize_for_deployment']} --init_args {'label': 'y'}\n",
      "\n",
      "\u001b[0m\n",
      "\u001b[34m/opt/ml/input:\u001b[0m\n",
      "\u001b[34mtotal 8\u001b[0m\n",
      "\u001b[34mdrwxr-xr-x 2 root root 4096 Apr 10 02:20 config\u001b[0m\n",
      "\u001b[34mdrwxr-xr-x 4 root root 4096 Apr 10 02:20 data\n",
      "\u001b[0m\n",
      "\u001b[34m/opt/ml/input/config:\u001b[0m\n",
      "\u001b[34mtotal 32\u001b[0m\n",
      "\u001b[34m-rw-r--r-- 1 root root  112 Apr 10 02:20 hyperparameters.json\u001b[0m\n",
      "\u001b[34m-rw-r--r-- 1 root root  873 Apr 10 02:20 init-config.json\u001b[0m\n",
      "\u001b[34m-rw-r--r-- 1 root root  212 Apr 10 02:20 inputdataconfig.json\u001b[0m\n",
      "\u001b[34m-rw-r--r-- 1 root root    2 Apr 10 02:20 metric-definition-regex.json\u001b[0m\n",
      "\u001b[34m-rw-r--r-- 1 root root  214 Apr 10 02:20 profilerconfig.json\u001b[0m\n",
      "\u001b[34m-rw-r--r-- 1 root root   81 Apr 10 02:20 resourceconfig.json\u001b[0m\n",
      "\u001b[34m-rw-r--r-- 1 root root 1631 Apr 10 02:20 trainingjobconfig.json\u001b[0m\n",
      "\u001b[34m-rw-r--r-- 1 root root    2 Apr 10 02:20 upstreamoutputdataconfig.json\n",
      "\u001b[0m\n",
      "\u001b[34m/opt/ml/input/data:\u001b[0m\n",
      "\u001b[34mtotal 16\u001b[0m\n",
      "\u001b[34mdrwxr-xr-x 2 root root 4096 Apr 10 02:20 testing\u001b[0m\n",
      "\u001b[34m-rw-r--r-- 1 root root  122 Apr 10 02:20 testing-manifest\u001b[0m\n",
      "\u001b[34mdrwxr-xr-x 2 root root 4096 Apr 10 02:20 training\u001b[0m\n",
      "\u001b[34m-rw-r--r-- 1 root root  124 Apr 10 02:20 training-manifest\n",
      "\u001b[0m\n",
      "\u001b[34m/opt/ml/input/data/testing:\u001b[0m\n",
      "\u001b[34mtotal 1460\u001b[0m\n",
      "\u001b[34m-rw-r--r-- 1 root root 1492534 Apr 10 02:20 test.csv\n",
      "\u001b[0m\n",
      "\u001b[34m/opt/ml/input/data/training:\u001b[0m\n",
      "\u001b[34mtotal 3404\u001b[0m\n",
      "\u001b[34m-rw-r--r-- 1 root root 3482413 Apr 10 02:20 train.csv\u001b[0m\n",
      "\u001b[34mINFO:root:0\u001b[0m\n",
      "\u001b[34mIPython could not be loaded!\u001b[0m\n",
      "\u001b[34mDEBUG:asyncio:Using selector: EpollSelector\u001b[0m\n",
      "\u001b[34mfit_args:\u001b[0m\n",
      "\u001b[34mpresets,  type: <class 'list'>,  value: ['optimize_for_deployment']\u001b[0m\n",
      "\u001b[34mTrain files: ['train.csv']\u001b[0m\n",
      "\u001b[34mWARNING:autogluon.core.utils.utils:Warning: path already exists! This predictor may overwrite an existing predictor! path=\"/opt/ml/model\"\u001b[0m\n",
      "\u001b[34mINFO:root:Presets specified: ['optimize_for_deployment']\u001b[0m\n",
      "\u001b[34mINFO:autogluon.tabular.learner.default_learner:Beginning AutoGluon training ...\u001b[0m\n",
      "\u001b[34mINFO:autogluon.tabular.learner.default_learner:AutoGluon will save models to \"/opt/ml/model/\"\u001b[0m\n",
      "\u001b[34mINFO:autogluon.tabular.learner.default_learner:AutoGluon Version:  0.1.0\u001b[0m\n",
      "\u001b[34mINFO:autogluon.tabular.learner.default_learner:Train Data Rows:    28832\u001b[0m\n",
      "\u001b[34mINFO:autogluon.tabular.learner.default_learner:Train Data Columns: 20\u001b[0m\n",
      "\u001b[34mINFO:autogluon.tabular.learner.default_learner:Preprocessing data ...\u001b[0m\n",
      "\u001b[34mLevel 25:autogluon.core.utils.utils:AutoGluon infers your prediction problem is: 'binary' (because only two unique label-values observed).\u001b[0m\n",
      "\u001b[34mINFO:autogluon.core.utils.utils:#0112 unique label values:  ['no', 'yes']\u001b[0m\n",
      "\u001b[34mLevel 25:autogluon.core.utils.utils:#011If 'binary' is not the correct problem_type, please manually specify the problem_type argument in fit() (You may specify problem_type as one of: ['binary', 'multiclass', 'regression'])\u001b[0m\n",
      "\u001b[34mINFO:numexpr.utils:NumExpr defaulting to 8 threads.\u001b[0m\n",
      "\u001b[34mINFO:autogluon.core.data.label_cleaner:Selected class <--> label mapping:  class 1 = yes, class 0 = no\u001b[0m\n",
      "\u001b[34mINFO:autogluon.core.data.label_cleaner:#011Note: For your binary classification, AutoGluon arbitrarily selected which label-value represents positive (yes) vs negative (no) class.\u001b[0m\n",
      "\u001b[34m#011To explicitly set the positive_class, either rename classes to 1 and 0, or specify positive_class in Predictor init.\u001b[0m\n",
      "\u001b[34mINFO:autogluon.tabular.learner.default_learner:Using Feature Generators to preprocess the data ...\u001b[0m\n",
      "\u001b[34mINFO:autogluon.features.generators.abstract:Fitting AutoMLPipelineFeatureGenerator...\u001b[0m\n",
      "\u001b[34mINFO:autogluon.features.generators.abstract:#011Available Memory:                    31401.54 MB\u001b[0m\n",
      "\u001b[34mINFO:autogluon.features.generators.abstract:#011Train Data (Original)  Memory Usage: 20.51 MB (0.1% of available memory)\u001b[0m\n",
      "\u001b[34mINFO:autogluon.features.generators.abstract:#011Inferring data type of each feature based on column values. Set feature_metadata_in to manually specify special dtypes of the features.\u001b[0m\n",
      "\u001b[34mINFO:autogluon.features.generators.abstract:#011Stage 1 Generators:\u001b[0m\n",
      "\u001b[34mINFO:autogluon.features.generators.abstract:#011#011Fitting AsTypeFeatureGenerator...\u001b[0m\n",
      "\u001b[34mINFO:autogluon.features.generators.abstract:#011Stage 2 Generators:\u001b[0m\n",
      "\u001b[34mINFO:autogluon.features.generators.abstract:#011#011Fitting FillNaFeatureGenerator...\u001b[0m\n",
      "\u001b[34mINFO:autogluon.features.generators.abstract:#011Stage 3 Generators:\u001b[0m\n",
      "\u001b[34mINFO:autogluon.features.generators.abstract:#011#011Fitting IdentityFeatureGenerator...\u001b[0m\n",
      "\u001b[34mINFO:autogluon.features.generators.abstract:#011#011Fitting CategoryFeatureGenerator...\u001b[0m\n",
      "\u001b[34mINFO:autogluon.features.generators.abstract:#011#011#011Fitting CategoryMemoryMinimizeFeatureGenerator...\u001b[0m\n",
      "\u001b[34mINFO:autogluon.features.generators.abstract:#011Stage 4 Generators:\u001b[0m\n",
      "\u001b[34mINFO:autogluon.features.generators.abstract:#011#011Fitting DropUniqueFeatureGenerator...\u001b[0m\n",
      "\u001b[34mINFO:autogluon.features.generators.abstract:#011Types of features in original data (raw dtype, special dtypes):\u001b[0m\n",
      "\u001b[34mINFO:autogluon.core.features.feature_metadata:#011#011('float', [])  :  5 | ['emp.var.rate', 'cons.price.idx', 'cons.conf.idx', 'euribor3m', 'nr.employed']\u001b[0m\n",
      "\u001b[34mINFO:autogluon.core.features.feature_metadata:#011#011('int', [])    :  5 | ['age', 'duration', 'campaign', 'pdays', 'previous']\u001b[0m\n",
      "\u001b[34mINFO:autogluon.core.features.feature_metadata:#011#011('object', []) : 10 | ['job', 'marital', 'education', 'default', 'housing', ...]\u001b[0m\n",
      "\u001b[34mINFO:autogluon.features.generators.abstract:#011Types of features in processed data (raw dtype, special dtypes):\u001b[0m\n",
      "\u001b[34mINFO:autogluon.core.features.feature_metadata:#011#011('category', []) : 10 | ['job', 'marital', 'education', 'default', 'housing', ...]\u001b[0m\n",
      "\u001b[34mINFO:autogluon.core.features.feature_metadata:#011#011('float', [])    :  5 | ['emp.var.rate', 'cons.price.idx', 'cons.conf.idx', 'euribor3m', 'nr.employed']\u001b[0m\n",
      "\u001b[34mINFO:autogluon.core.features.feature_metadata:#011#011('int', [])      :  5 | ['age', 'duration', 'campaign', 'pdays', 'previous']\u001b[0m\n",
      "\u001b[34mINFO:autogluon.features.generators.abstract:#0110.2s = Fit runtime\u001b[0m\n",
      "\u001b[34mINFO:autogluon.features.generators.abstract:#01120 features in original data used to generate 20 features in processed data.\u001b[0m\n",
      "\u001b[34mINFO:autogluon.features.generators.abstract:#011Train Data (Processed) Memory Usage: 2.6 MB (0.0% of available memory)\u001b[0m\n",
      "\u001b[34mINFO:autogluon.tabular.learner.default_learner:Data preprocessing and feature engineering runtime = 0.26s ...\u001b[0m\n",
      "\u001b[34mLevel 25:autogluon.tabular.trainer.abstract_trainer:AutoGluon will gauge predictive performance using evaluation metric: 'accuracy'\u001b[0m\n",
      "\u001b[34mINFO:autogluon.tabular.trainer.abstract_trainer:#011To change this, specify the eval_metric argument of fit()\u001b[0m\n",
      "\u001b[34mINFO:autogluon.tabular.trainer.auto_trainer:Automatically generating train/validation split with holdout_frac=0.08670921198668147, Train Rows: 26332, Val Rows: 2500\u001b[0m\n",
      "\u001b[34mINFO:autogluon.tabular.trainer.abstract_trainer:Fitting model: RandomForestGini ...\u001b[0m\n",
      "\u001b[34mINFO:autogluon.tabular.trainer.abstract_trainer:#0110.9172#011 = Validation accuracy score\u001b[0m\n",
      "\u001b[34mINFO:autogluon.tabular.trainer.abstract_trainer:#0111.65s#011 = Training runtime\u001b[0m\n",
      "\u001b[34mINFO:autogluon.tabular.trainer.abstract_trainer:#0110.22s#011 = Validation runtime\u001b[0m\n",
      "\u001b[34mINFO:autogluon.tabular.trainer.abstract_trainer:Fitting model: RandomForestEntr ...\u001b[0m\n",
      "\u001b[34mINFO:autogluon.tabular.trainer.abstract_trainer:#0110.9208#011 = Validation accuracy score\u001b[0m\n",
      "\u001b[34mINFO:autogluon.tabular.trainer.abstract_trainer:#0111.65s#011 = Training runtime\u001b[0m\n",
      "\u001b[34mINFO:autogluon.tabular.trainer.abstract_trainer:#0110.21s#011 = Validation runtime\u001b[0m\n",
      "\u001b[34mINFO:autogluon.tabular.trainer.abstract_trainer:Fitting model: ExtraTreesGini ...\u001b[0m\n",
      "\u001b[34mINFO:autogluon.tabular.trainer.abstract_trainer:#0110.9112#011 = Validation accuracy score\u001b[0m\n",
      "\u001b[34mINFO:autogluon.tabular.trainer.abstract_trainer:#0111.45s#011 = Training runtime\u001b[0m\n",
      "\u001b[34mINFO:autogluon.tabular.trainer.abstract_trainer:#0110.21s#011 = Validation runtime\u001b[0m\n",
      "\u001b[34mINFO:autogluon.tabular.trainer.abstract_trainer:Fitting model: ExtraTreesEntr ...\u001b[0m\n",
      "\u001b[34mINFO:autogluon.tabular.trainer.abstract_trainer:#0110.9112#011 = Validation accuracy score\u001b[0m\n",
      "\u001b[34mINFO:autogluon.tabular.trainer.abstract_trainer:#0111.45s#011 = Training runtime\u001b[0m\n",
      "\u001b[34mINFO:autogluon.tabular.trainer.abstract_trainer:#0110.22s#011 = Validation runtime\u001b[0m\n",
      "\u001b[34mINFO:autogluon.tabular.trainer.abstract_trainer:Fitting model: KNeighborsUnif ...\u001b[0m\n",
      "\u001b[34mINFO:autogluon.tabular.trainer.abstract_trainer:#0110.9048#011 = Validation accuracy score\u001b[0m\n",
      "\u001b[34mINFO:autogluon.tabular.trainer.abstract_trainer:#0110.22s#011 = Training runtime\u001b[0m\n",
      "\u001b[34mINFO:autogluon.tabular.trainer.abstract_trainer:#0110.11s#011 = Validation runtime\u001b[0m\n",
      "\u001b[34mINFO:autogluon.tabular.trainer.abstract_trainer:Fitting model: KNeighborsDist ...\u001b[0m\n",
      "\u001b[34mINFO:autogluon.tabular.trainer.abstract_trainer:#0110.9032#011 = Validation accuracy score\u001b[0m\n",
      "\u001b[34mINFO:autogluon.tabular.trainer.abstract_trainer:#0110.22s#011 = Training runtime\u001b[0m\n",
      "\u001b[34mINFO:autogluon.tabular.trainer.abstract_trainer:#0110.11s#011 = Validation runtime\u001b[0m\n",
      "\u001b[34mINFO:autogluon.tabular.trainer.abstract_trainer:Fitting model: LightGBM ...\u001b[0m\n",
      "\u001b[34mINFO:autogluon.tabular.trainer.abstract_trainer:#0110.9252#011 = Validation accuracy score\u001b[0m\n",
      "\u001b[34mINFO:autogluon.tabular.trainer.abstract_trainer:#0110.58s#011 = Training runtime\u001b[0m\n",
      "\u001b[34mINFO:autogluon.tabular.trainer.abstract_trainer:#0110.02s#011 = Validation runtime\u001b[0m\n",
      "\u001b[34mINFO:autogluon.tabular.trainer.abstract_trainer:Fitting model: LightGBMXT ...\u001b[0m\n",
      "\u001b[34mINFO:autogluon.tabular.trainer.abstract_trainer:#0110.9244#011 = Validation accuracy score\u001b[0m\n",
      "\u001b[34mINFO:autogluon.tabular.trainer.abstract_trainer:#0110.48s#011 = Training runtime\u001b[0m\n",
      "\u001b[34mINFO:autogluon.tabular.trainer.abstract_trainer:#0110.02s#011 = Validation runtime\u001b[0m\n",
      "\u001b[34mINFO:autogluon.tabular.trainer.abstract_trainer:Fitting model: CatBoost ...\u001b[0m\n",
      "\u001b[34mINFO:autogluon.tabular.trainer.abstract_trainer:#0110.924#011 = Validation accuracy score\u001b[0m\n",
      "\u001b[34mINFO:autogluon.tabular.trainer.abstract_trainer:#0112.84s#011 = Training runtime\u001b[0m\n",
      "\u001b[34mINFO:autogluon.tabular.trainer.abstract_trainer:#0110.02s#011 = Validation runtime\u001b[0m\n",
      "\u001b[34mINFO:autogluon.tabular.trainer.abstract_trainer:Fitting model: XGBoost ...\u001b[0m\n",
      "\u001b[34mINFO:autogluon.tabular.trainer.abstract_trainer:#0110.9264#011 = Validation accuracy score\u001b[0m\n",
      "\u001b[34mINFO:autogluon.tabular.trainer.abstract_trainer:#0111.22s#011 = Training runtime\u001b[0m\n",
      "\u001b[34mINFO:autogluon.tabular.trainer.abstract_trainer:#0110.03s#011 = Validation runtime\u001b[0m\n",
      "\u001b[34mINFO:autogluon.tabular.trainer.abstract_trainer:Fitting model: NeuralNetMXNet ...\u001b[0m\n",
      "\u001b[34mINFO:autogluon.tabular.trainer.abstract_trainer:#0110.9236#011 = Validation accuracy score\u001b[0m\n",
      "\u001b[34mINFO:autogluon.tabular.trainer.abstract_trainer:#01153.87s#011 = Training runtime\u001b[0m\n",
      "\u001b[34mINFO:autogluon.tabular.trainer.abstract_trainer:#0110.33s#011 = Validation runtime\u001b[0m\n",
      "\u001b[34mINFO:autogluon.tabular.trainer.abstract_trainer:Fitting model: NeuralNetFastAI ...\u001b[0m\n",
      "\u001b[34mINFO:autogluon.tabular.trainer.abstract_trainer:#0110.9208#011 = Validation accuracy score\u001b[0m\n",
      "\u001b[34mINFO:autogluon.tabular.trainer.abstract_trainer:#01148.49s#011 = Training runtime\u001b[0m\n",
      "\u001b[34mINFO:autogluon.tabular.trainer.abstract_trainer:#0110.18s#011 = Validation runtime\u001b[0m\n",
      "\u001b[34mINFO:autogluon.tabular.trainer.abstract_trainer:Fitting model: LightGBMLarge ...\u001b[0m\n",
      "\u001b[34mINFO:autogluon.tabular.trainer.abstract_trainer:#0110.9248#011 = Validation accuracy score\u001b[0m\n",
      "\u001b[34mINFO:autogluon.tabular.trainer.abstract_trainer:#0110.88s#011 = Training runtime\u001b[0m\n",
      "\u001b[34mINFO:autogluon.tabular.trainer.abstract_trainer:#0110.02s#011 = Validation runtime\u001b[0m\n",
      "\u001b[34mINFO:autogluon.tabular.trainer.abstract_trainer:Fitting model: WeightedEnsemble_L2 ...\u001b[0m\n",
      "\u001b[34mINFO:autogluon.tabular.trainer.abstract_trainer:#0110.9304#011 = Validation accuracy score\u001b[0m\n",
      "\u001b[34mINFO:autogluon.tabular.trainer.abstract_trainer:#0111.41s#011 = Training runtime\u001b[0m\n",
      "\u001b[34mINFO:autogluon.tabular.trainer.abstract_trainer:#0110.01s#011 = Validation runtime\u001b[0m\n",
      "\u001b[34mINFO:autogluon.tabular.learner.default_learner:AutoGluon training complete, total runtime = 122.24s ...\u001b[0m\n",
      "\u001b[34mWARNING:autogluon.core.models.abstract.abstract_model:Deleting model RandomForestGini. All files under /opt/ml/model/models/RandomForestGini/ will be removed.\u001b[0m\n",
      "\u001b[34mWARNING:autogluon.core.models.abstract.abstract_model:Deleting model ExtraTreesEntr. All files under /opt/ml/model/models/ExtraTreesEntr/ will be removed.\u001b[0m\n",
      "\u001b[34mWARNING:autogluon.core.models.abstract.abstract_model:Deleting model KNeighborsUnif. All files under /opt/ml/model/models/KNeighborsUnif/ will be removed.\u001b[0m\n",
      "\u001b[34mWARNING:autogluon.core.models.abstract.abstract_model:Deleting model KNeighborsDist. All files under /opt/ml/model/models/KNeighborsDist/ will be removed.\u001b[0m\n",
      "\u001b[34mWARNING:autogluon.core.models.abstract.abstract_model:Deleting model LightGBMLarge. All files under /opt/ml/model/models/LightGBMLarge/ will be removed.\u001b[0m\n",
      "\u001b[34mINFO:root:TabularPredictor saved. To load, use: predictor = TabularPredictor.load(\"/opt/ml/model/\")\u001b[0m\n",
      "\u001b[34m█#015█#015█#015█#015█#015█#015█#015█#015█#015█#015█#015█#015█#015█#015█#015█#015█#015█#015█#015█#015█#015█#015█#015█#015█#015█#015█#015█#015█#015█#015█#015█#015█#015█#015█#015█#015█#015█#015█#015█#015█#015█#015█#015█#015█#015█#015█#015█#015█#015█#015█#015█#015█#015█#015█#015█#015█#015█#015█#015█#015█#015█#015█#015█#015*** Summary of fit() ***\u001b[0m\n",
      "\u001b[34mEstimated performance of each model:\n",
      "                 model  score_val  pred_time_val    fit_time  pred_time_val_marginal  fit_time_marginal  stack_level  can_infer  fit_order\u001b[0m\n",
      "\u001b[34m0  WeightedEnsemble_L2     0.9304       1.038226  111.992170                0.005302           1.414782            2       True          9\u001b[0m\n",
      "\u001b[34m1              XGBoost     0.9264       0.034549    1.218357                0.034549           1.218357            1       True          6\u001b[0m\n",
      "\u001b[34m2             LightGBM     0.9252       0.020092    0.584074                0.020092           0.584074            1       True          3\u001b[0m\n",
      "\u001b[34m3           LightGBMXT     0.9244       0.024177    0.482695                0.024177           0.482695            1       True          4\u001b[0m\n",
      "\u001b[34m4             CatBoost     0.9240       0.019579    2.842644                0.019579           2.842644            1       True          5\u001b[0m\n",
      "\u001b[34m5       NeuralNetMXNet     0.9236       0.329660   53.869896                0.329660          53.869896            1       True          7\u001b[0m\n",
      "\u001b[34m6      NeuralNetFastAI     0.9208       0.175933   48.485631                0.175933          48.485631            1       True          8\u001b[0m\n",
      "\u001b[34m7     RandomForestEntr     0.9208       0.214173    1.648906                0.214173           1.648906            1       True          1\u001b[0m\n",
      "\u001b[34m8       ExtraTreesGini     0.9112       0.214762    1.445186                0.214762           1.445186            1       True          2\u001b[0m\n",
      "\u001b[34mNumber of models trained: 9\u001b[0m\n",
      "\u001b[34mTypes of models trained:\u001b[0m\n",
      "\u001b[34m{'XTModel', 'XGBoostModel', 'NNFastAiTabularModel', 'TabularNeuralNetModel', 'WeightedEnsembleModel', 'RFModel', 'LGBModel', 'CatBoostModel'}\u001b[0m\n",
      "\u001b[34mBagging used: False \u001b[0m\n",
      "\u001b[34mMulti-layer stack-ensembling used: False \u001b[0m\n",
      "\u001b[34mFeature Metadata (Processed):\u001b[0m\n",
      "\u001b[34m(raw dtype, special dtypes):\u001b[0m\n",
      "\u001b[34m('category', []) : 10 | ['job', 'marital', 'education', 'default', 'housing', ...]\u001b[0m\n",
      "\u001b[34m('float', [])    :  5 | ['emp.var.rate', 'cons.price.idx', 'cons.conf.idx', 'euribor3m', 'nr.employed']\u001b[0m\n",
      "\u001b[34m('int', [])      :  5 | ['age', 'duration', 'campaign', 'pdays', 'previous']\u001b[0m\n",
      "\u001b[34mPlot summary of models saved to file: /opt/ml/model/SummaryOfModels.html\u001b[0m\n",
      "\u001b[34m*** End of fit() summary ***\u001b[0m\n",
      "\u001b[34mWarning: using box for unknown shape rectagle\n",
      "\u001b[0m\n",
      "\u001b[34mTest files: ['test.csv']\u001b[0m\n",
      "\u001b[34mRunning model on test data and getting Leaderboard...\u001b[0m\n",
      "\u001b[34m█#015+---------------------+--------------------+-----------+----------------------+----------------------+--------------------+-------------------------+------------------------+--------------------+-------------+-----------+-----------+\u001b[0m\n",
      "\u001b[34m|        model        |     score_test     | score_val |    pred_time_test    |    pred_time_val     |      fit_time      | pred_time_test_marginal | pred_time_val_marginal | fit_time_marginal  | stack_level | can_infer | fit_order |\u001b[0m\n",
      "\u001b[34m+---------------------+--------------------+-----------+----------------------+----------------------+--------------------+-------------------------+------------------------+--------------------+-------------+-----------+-----------+\u001b[0m\n",
      "\u001b[34m|       LightGBM      | 0.9203625768857235 |   0.9252  | 0.037138938903808594 | 0.020091772079467773 | 0.5840740203857422 |   0.037138938903808594  |  0.020091772079467773  | 0.5840740203857422 |      1      |    True   |     3     |\u001b[0m\n",
      "\u001b[34m| WeightedEnsemble_L2 | 0.918824862415021  |   0.9304  |  3.140389919281006   |  1.0382263660430908  | 111.9921703338623  |   0.00670170783996582   | 0.0053021907806396484  | 1.4147815704345703 |      2      |    True   |     9     |\u001b[0m\n",
      "\u001b[34m|       XGBoost       | 0.9184202007122046 |   0.9264  | 0.13579702377319336  | 0.03454923629760742  | 1.2183573246002197 |   0.13579702377319336   |  0.03454923629760742   | 1.2183573246002197 |      1      |    True   |     6     |\u001b[0m\n",
      "\u001b[34m|       CatBoost      | 0.9179346066688249 |   0.924   | 0.025918245315551758 | 0.01957869529724121  | 2.842643976211548  |   0.025918245315551758  |  0.01957869529724121   | 2.842643976211548  |      1      |    True   |     5     |\u001b[0m\n",
      "\u001b[34m|      LightGBMXT     | 0.9174490126254451 |   0.9244  | 0.03709602355957031  | 0.024176836013793945 | 0.4826948642730713 |   0.03709602355957031   |  0.024176836013793945  | 0.4826948642730713 |      1      |    True   |     4     |\u001b[0m\n",
      "\u001b[34m|   NeuralNetFastAI   | 0.9172062156037553 |   0.9208  |  0.7685256004333496  |  0.1759328842163086  | 48.48563051223755  |    0.7685256004333496   |   0.1759328842163086   | 48.48563051223755  |      1      |    True   |     8     |\u001b[0m\n",
      "\u001b[34m|   RandomForestEntr  | 0.9169634185820654 |   0.9208  | 0.31614136695861816  |  0.2141726016998291  | 1.6489059925079346 |   0.31614136695861816   |   0.2141726016998291   | 1.6489059925079346 |      1      |    True   |     1     |\u001b[0m\n",
      "\u001b[34m|    NeuralNetMXNet   | 0.9155066364519262 |   0.9236  |  1.3378946781158447  | 0.32965993881225586  | 53.869895696640015 |    1.3378946781158447   |  0.32965993881225586   | 53.869895696640015 |      1      |    True   |     7     |\u001b[0m\n",
      "\u001b[34m|    ExtraTreesGini   | 0.9105697636775656 |   0.9112  |  0.4751763343811035  | 0.21476221084594727  | 1.4451863765716553 |    0.4751763343811035   |  0.21476221084594727   | 1.4451863765716553 |      1      |    True   |     2     |\u001b[0m\n",
      "\u001b[34m+---------------------+--------------------+-----------+----------------------+----------------------+--------------------+-------------------------+------------------------+--------------------+-------------+-----------+-----------+\n",
      "\u001b[0m\n",
      "\u001b[34mFeature importance:\u001b[0m\n",
      "\u001b[34mINFO:autogluon.core.utils.utils:Computing feature importance via permutation shuffling for 20 features using 1000 rows with 3 shuffle sets...\u001b[0m\n",
      "\u001b[34mINFO:autogluon.core.utils.utils:#01174.91s#011= Expected runtime (24.97s per shuffle set)\u001b[0m\n",
      "\u001b[34mINFO:autogluon.core.utils.utils:#01116.41s#011= Actual runtime (Completed 3 of 3 shuffle sets)\u001b[0m\n",
      "\u001b[34m█#015█#015█#015█#015█#015█#015                importance    stddev   p_value  n  p99_high   p99_low\u001b[0m\n",
      "\u001b[34mduration          0.059000  0.007550  0.002707  3  0.102261  0.015739\u001b[0m\n",
      "\u001b[34meuribor3m         0.020667  0.009292  0.030626  3  0.073908 -0.032575\u001b[0m\n",
      "\u001b[34mnr.employed       0.008333  0.001528  0.005508  3  0.017086 -0.000420\u001b[0m\n",
      "\u001b[34mpdays             0.003667  0.002517  0.063822  3  0.018087 -0.010754\u001b[0m\n",
      "\u001b[34mhousing           0.001667  0.000577  0.018875  3  0.004975 -0.001642\u001b[0m\n",
      "\u001b[34mcons.price.idx    0.001667  0.002082  0.149930  3  0.013595 -0.010262\u001b[0m\n",
      "\u001b[34mmonth             0.001667  0.000577  0.018875  3  0.004975 -0.001642\u001b[0m\n",
      "\u001b[34mjob               0.001000  0.002000  0.238884  3  0.012460 -0.010460\u001b[0m\n",
      "\u001b[34memp.var.rate      0.000667  0.004619  0.412961  3  0.027133 -0.025800\u001b[0m\n",
      "\u001b[34mcontact           0.000667  0.002082  0.317426  3  0.012595 -0.011262\u001b[0m\n",
      "\u001b[34mdefault           0.000333  0.001528  0.370901  3  0.009086 -0.008420\u001b[0m\n",
      "\u001b[34mprevious          0.000000  0.001000  0.500000  3  0.005730 -0.005730\u001b[0m\n",
      "\u001b[34meducation         0.000000  0.001000  0.500000  3  0.005730 -0.005730\u001b[0m\n",
      "\u001b[34mmarital          -0.000333  0.000577  0.788675  3  0.002975 -0.003642\u001b[0m\n",
      "\u001b[34mday_of_week      -0.000333  0.001528  0.629099  3  0.008420 -0.009086\u001b[0m\n",
      "\u001b[34mloan             -0.000333  0.002082  0.596225  3  0.011595 -0.012262\u001b[0m\n",
      "\u001b[34mcampaign         -0.000333  0.001528  0.629099  3  0.008420 -0.009086\u001b[0m\n",
      "\u001b[34mcons.conf.idx    -0.000667  0.001528  0.735702  3  0.008086 -0.009420\u001b[0m\n",
      "\u001b[34mpoutcome         -0.002000  0.003464  0.788675  3  0.017850 -0.021850\u001b[0m\n",
      "\u001b[34mage              -0.003667  0.001155  0.984248  3  0.002950 -0.010283\u001b[0m\n",
      "\u001b[34m█#015█#015Model export summary:\u001b[0m\n",
      "\u001b[34m/opt/ml/model/: ['predictor.pkl', 'SummaryOfModels.html', 'models', 'learner.pkl']\u001b[0m\n",
      "\u001b[34m/opt/ml/model/models: ['WeightedEnsemble_L2', 'LightGBMXT', 'RandomForestEntr', 'ExtraTreesGini', 'XGBoost', 'LightGBM', 'NeuralNetFastAI', 'CatBoost', 'trainer.pkl', 'NeuralNetMXNet']\u001b[0m\n",
      "\u001b[34m/opt/ml/model directory size: 313M\n",
      "\u001b[0m\n",
      "\u001b[34mElapsed time: 151.714 seconds. Training Completed!\u001b[0m\n",
      "\u001b[34m2021-04-10 02:25:01,887 sagemaker-training-toolkit INFO     Reporting training SUCCESS\u001b[0m\n",
      "\n",
      "2021-04-10 02:25:10 Uploading - Uploading generated training model\n",
      "2021-04-10 02:25:51 Completed - Training job completed\n",
      "ProfilerReport-1618021103: NoIssuesFound\n",
      "Training seconds: 317\n",
      "Billable seconds: 317\n",
      "CPU times: user 1.2 s, sys: 63.2 ms, total: 1.27 s\n",
      "Wall time: 7min 45s\n"
     ]
    }
   ],
   "source": [
    "%%time\n",
    "\n",
    "instance_type = 'ml.m5.2xlarge'\n",
    "#instance_type = 'local'\n",
    "\n",
    "ecr_image = f'{ecr_uri_prefix}/{training_algorithm_name}:latest'\n",
    "\n",
    "estimator = Estimator(image_uri=ecr_image,\n",
    "                      role=role,\n",
    "                      instance_count=1,\n",
    "                      instance_type=instance_type,\n",
    "                      hyperparameters=hyperparameters,\n",
    "                      volume_size=100,\n",
    "                      tags=tags)\n",
    "\n",
    "# Set inputs. Test data is optional, but requires a label column.\n",
    "inputs = {'training': train_s3_path, 'testing': test_s3_path}\n",
    "\n",
    "estimator.fit(inputs)"
   ]
  },
  {
   "cell_type": "markdown",
   "metadata": {},
   "source": [
    "### Review the performance of the trained model"
   ]
  },
  {
   "cell_type": "code",
   "execution_count": 15,
   "metadata": {},
   "outputs": [
    {
     "data": {
      "application/vnd.jupyter.widget-view+json": {
       "model_id": "f17b51d528e7420d9b540310318b601a",
       "version_major": 2,
       "version_minor": 0
      },
      "text/plain": [
       "HTML(value='\\n        <style>\\n            .output_scroll {\\n                height: unset !important;\\n      …"
      ]
     },
     "metadata": {},
     "output_type": "display_data"
    },
    {
     "data": {
      "application/vnd.jupyter.widget-view+json": {
       "model_id": "773ebc19c58846668d901af028503692",
       "version_major": 2,
       "version_minor": 0
      },
      "text/plain": [
       "HTML(value=\"<b><font size=4 color='#000099'>AutoGluon Model Performance Viewer</font></b>\")"
      ]
     },
     "metadata": {},
     "output_type": "display_data"
    },
    {
     "data": {
      "application/vnd.jupyter.widget-view+json": {
       "model_id": "b23174abcfc547f4a58ea7a6572d893b",
       "version_major": 2,
       "version_minor": 0
      },
      "text/plain": [
       "interactive(children=(Dropdown(description='Job_Name', options=('-- Select job --', 'autogluon-sagemaker-train…"
      ]
     },
     "metadata": {},
     "output_type": "display_data"
    }
   ],
   "source": [
    "from utils.ag_utils import launch_viewer\n",
    "\n",
    "launch_viewer(is_debug=False)"
   ]
  },
  {
   "cell_type": "markdown",
   "metadata": {
    "Collapsed": "false"
   },
   "source": [
    "### Create Model"
   ]
  },
  {
   "cell_type": "code",
   "execution_count": 16,
   "metadata": {
    "Collapsed": "false"
   },
   "outputs": [],
   "source": [
    "# Create predictor object\n",
    "class AutoGluonTabularPredictor(Predictor):\n",
    "    def __init__(self, *args, **kwargs):\n",
    "        super().__init__(*args, \n",
    "                         serializer=CSVSerializer(), \n",
    "                         deserializer=StringDeserializer(), **kwargs)"
   ]
  },
  {
   "cell_type": "code",
   "execution_count": 17,
   "metadata": {
    "Collapsed": "false"
   },
   "outputs": [],
   "source": [
    "ecr_image = f'{ecr_uri_prefix}/{inference_algorithm_name}:latest'\n",
    "\n",
    "if instance_type == 'local':\n",
    "    model = estimator.create_model(image_uri=ecr_image, role=role)\n",
    "else:\n",
    "    #model_uri = os.path.join(estimator.output_path, estimator._current_job_name, \"output\", \"model.tar.gz\")\n",
    "    model_uri = estimator.model_data\n",
    "    model = Model(ecr_image, model_data=model_uri, role=role, sagemaker_session=session, predictor_cls=AutoGluonTabularPredictor)"
   ]
  },
  {
   "cell_type": "markdown",
   "metadata": {
    "Collapsed": "false"
   },
   "source": [
    "### Batch Transform"
   ]
  },
  {
   "cell_type": "markdown",
   "metadata": {
    "Collapsed": "false"
   },
   "source": [
    "For local mode, either `s3://<bucket>/<prefix>/output/` or `file:///<absolute_local_path>` can be used as outputs.\n",
    "\n",
    "By including the label column in the test data, you can also evaluate prediction performance (In this case, passing `test_s3_path` instead of `X_test_s3_path`)."
   ]
  },
  {
   "cell_type": "code",
   "execution_count": 18,
   "metadata": {
    "Collapsed": "false",
    "scrolled": true
   },
   "outputs": [
    {
     "name": "stdout",
     "output_type": "stream",
     "text": [
      ".............................\u001b[34mWarning: Calling MMS with mxnet-model-server. Please move to multi-model-server.\u001b[0m\n",
      "\u001b[34m2021-04-10 02:30:49,449 [INFO ] main com.amazonaws.ml.mms.ModelServer - \u001b[0m\n",
      "\u001b[34mMMS Home: /usr/local/lib/python3.6/site-packages\u001b[0m\n",
      "\u001b[34mCurrent directory: /\u001b[0m\n",
      "\u001b[34mTemp directory: /home/model-server/tmp\u001b[0m\n",
      "\u001b[34mNumber of GPUs: 0\u001b[0m\n",
      "\u001b[34mNumber of CPUs: 8\u001b[0m\n",
      "\u001b[34mMax heap size: 6277 M\u001b[0m\n",
      "\u001b[34mPython executable: /usr/local/bin/python3.6\u001b[0m\n",
      "\u001b[34mConfig file: /etc/sagemaker-mms.properties\u001b[0m\n",
      "\u001b[34mInference address: http://0.0.0.0:8080\u001b[0m\n",
      "\u001b[34mManagement address: http://0.0.0.0:8080\u001b[0m\n",
      "\u001b[34mModel Store: /.sagemaker/mms/models\u001b[0m\n",
      "\u001b[34mInitial Models: ALL\u001b[0m\n",
      "\u001b[34mLog dir: /logs\u001b[0m\n",
      "\u001b[34mMetrics dir: /logs\u001b[0m\n",
      "\u001b[34mNetty threads: 0\u001b[0m\n",
      "\u001b[34mNetty client threads: 0\u001b[0m\n",
      "\u001b[34mDefault workers per model: 8\u001b[0m\n",
      "\u001b[34mBlacklist Regex: N/A\u001b[0m\n",
      "\u001b[34mMaximum Response Size: 6553500\u001b[0m\n",
      "\u001b[34mMaximum Request Size: 6553500\u001b[0m\n",
      "\u001b[34mPreload model: false\u001b[0m\n",
      "\u001b[34mPrefer direct buffer: false\u001b[0m\n",
      "\u001b[34m2021-04-10 02:30:49,519 [WARN ] W-9000-model com.amazonaws.ml.mms.wlm.WorkerLifeCycle - attachIOStreams() threadName=W-9000-model\u001b[0m\n",
      "\u001b[34m2021-04-10 02:30:49,621 [INFO ] W-9000-model-stdout com.amazonaws.ml.mms.wlm.WorkerLifeCycle - model_service_worker started with args: --sock-type unix --sock-name /home/model-server/tmp/.mms.sock.9000 --handler sagemaker_mxnet_serving_container.handler_service --model-path /.sagemaker/mms/models/model --model-name model --preload-model false --tmp-dir /home/model-server/tmp\u001b[0m\n",
      "\u001b[34m2021-04-10 02:30:49,622 [INFO ] W-9000-model-stdout com.amazonaws.ml.mms.wlm.WorkerLifeCycle - Listening on port: /home/model-server/tmp/.mms.sock.9000\u001b[0m\n",
      "\u001b[34m2021-04-10 02:30:49,622 [INFO ] W-9000-model-stdout com.amazonaws.ml.mms.wlm.WorkerLifeCycle - [PID] 71\u001b[0m\n",
      "\u001b[34m2021-04-10 02:30:49,622 [INFO ] W-9000-model-stdout com.amazonaws.ml.mms.wlm.WorkerLifeCycle - MMS worker started.\u001b[0m\n",
      "\u001b[34m2021-04-10 02:30:49,622 [INFO ] W-9000-model-stdout com.amazonaws.ml.mms.wlm.WorkerLifeCycle - Python runtime: 3.6.13\u001b[0m\n",
      "\u001b[34m2021-04-10 02:30:49,623 [INFO ] main com.amazonaws.ml.mms.wlm.ModelManager - Model model loaded.\u001b[0m\n",
      "\u001b[34m2021-04-10 02:30:49,628 [INFO ] main com.amazonaws.ml.mms.ModelServer - Initialize Inference server with: EpollServerSocketChannel.\u001b[0m\n",
      "\u001b[34m2021-04-10 02:30:49,638 [INFO ] W-9000-model com.amazonaws.ml.mms.wlm.WorkerThread - Connecting to: /home/model-server/tmp/.mms.sock.9000\u001b[0m\n",
      "\u001b[34m2021-04-10 02:30:49,638 [INFO ] W-9000-model com.amazonaws.ml.mms.wlm.WorkerThread - Connecting to: /home/model-server/tmp/.mms.sock.9000\u001b[0m\n",
      "\u001b[34m2021-04-10 02:30:49,638 [INFO ] W-9000-model com.amazonaws.ml.mms.wlm.WorkerThread - Connecting to: /home/model-server/tmp/.mms.sock.9000\u001b[0m\n",
      "\u001b[34m2021-04-10 02:30:49,638 [INFO ] W-9000-model com.amazonaws.ml.mms.wlm.WorkerThread - Connecting to: /home/model-server/tmp/.mms.sock.9000\u001b[0m\n",
      "\u001b[34m2021-04-10 02:30:49,638 [INFO ] W-9000-model com.amazonaws.ml.mms.wlm.WorkerThread - Connecting to: /home/model-server/tmp/.mms.sock.9000\u001b[0m\n",
      "\u001b[34m2021-04-10 02:30:49,639 [INFO ] W-9000-model com.amazonaws.ml.mms.wlm.WorkerThread - Connecting to: /home/model-server/tmp/.mms.sock.9000\u001b[0m\n",
      "\u001b[34m2021-04-10 02:30:49,639 [INFO ] W-9000-model com.amazonaws.ml.mms.wlm.WorkerThread - Connecting to: /home/model-server/tmp/.mms.sock.9000\u001b[0m\n",
      "\u001b[34m2021-04-10 02:30:49,640 [INFO ] W-9000-model com.amazonaws.ml.mms.wlm.WorkerThread - Connecting to: /home/model-server/tmp/.mms.sock.9000\u001b[0m\n",
      "\u001b[34m2021-04-10 02:30:49,695 [INFO ] main com.amazonaws.ml.mms.ModelServer - Inference API bind to: http://0.0.0.0:8080\u001b[0m\n",
      "\u001b[34mModel server started.\u001b[0m\n",
      "\u001b[34m2021-04-10 02:30:49,701 [INFO ] W-9000-model-stdout com.amazonaws.ml.mms.wlm.WorkerLifeCycle - Connection accepted: /home/model-server/tmp/.mms.sock.9000.\u001b[0m\n",
      "\u001b[34m2021-04-10 02:30:49,704 [WARN ] pool-2-thread-1 com.amazonaws.ml.mms.metrics.MetricCollector - worker pid is not available yet.\u001b[0m\n",
      "\u001b[34m2021-04-10 02:30:49,704 [INFO ] W-9000-model-stdout com.amazonaws.ml.mms.wlm.WorkerLifeCycle - Connection accepted: /home/model-server/tmp/.mms.sock.9000.\u001b[0m\n",
      "\u001b[34m2021-04-10 02:30:49,705 [INFO ] W-9000-model-stdout com.amazonaws.ml.mms.wlm.WorkerLifeCycle - Connection accepted: /home/model-server/tmp/.mms.sock.9000.\u001b[0m\n",
      "\u001b[34m2021-04-10 02:30:49,707 [INFO ] W-9000-model-stdout com.amazonaws.ml.mms.wlm.WorkerLifeCycle - Connection accepted: /home/model-server/tmp/.mms.sock.9000.\u001b[0m\n",
      "\u001b[34m2021-04-10 02:30:49,708 [INFO ] W-9000-model-stdout com.amazonaws.ml.mms.wlm.WorkerLifeCycle - Connection accepted: /home/model-server/tmp/.mms.sock.9000.\u001b[0m\n",
      "\u001b[34m2021-04-10 02:30:49,713 [INFO ] W-9000-model-stdout com.amazonaws.ml.mms.wlm.WorkerLifeCycle - Connection accepted: /home/model-server/tmp/.mms.sock.9000.\u001b[0m\n",
      "\u001b[34m2021-04-10 02:30:49,714 [INFO ] W-9000-model-stdout com.amazonaws.ml.mms.wlm.WorkerLifeCycle - Connection accepted: /home/model-server/tmp/.mms.sock.9000.\u001b[0m\n",
      "\u001b[34m2021-04-10 02:30:49,715 [INFO ] W-9000-model-stdout com.amazonaws.ml.mms.wlm.WorkerLifeCycle - Connection accepted: /home/model-server/tmp/.mms.sock.9000.\u001b[0m\n",
      "\u001b[34m2021-04-10 02:30:53,630 [INFO ] W-9000-model-stdout com.amazonaws.ml.mms.wlm.WorkerLifeCycle - Loading model from /.sagemaker/mms/models/model with contents ['models', 'MAR-INF', 'code', 'SummaryOfModels.html', 'learner.pkl', 'predictor.pkl']\u001b[0m\n",
      "\u001b[34m2021-04-10 02:30:53,643 [INFO ] W-9000-model com.amazonaws.ml.mms.wlm.WorkerThread - Backend response time: 3775\u001b[0m\n",
      "\u001b[34m2021-04-10 02:30:53,645 [WARN ] W-9000-model com.amazonaws.ml.mms.wlm.WorkerLifeCycle - attachIOStreams() threadName=W-model-3\u001b[0m\n",
      "\u001b[34m2021-04-10 02:30:53,714 [INFO ] W-9000-model-stdout com.amazonaws.ml.mms.wlm.WorkerLifeCycle - Loading model from /.sagemaker/mms/models/model with contents ['models', 'MAR-INF', 'code', 'SummaryOfModels.html', 'learner.pkl', 'predictor.pkl']\u001b[0m\n",
      "\u001b[34m2021-04-10 02:30:53,719 [INFO ] W-9000-model com.amazonaws.ml.mms.wlm.WorkerThread - Backend response time: 3925\u001b[0m\n",
      "\u001b[34m2021-04-10 02:30:53,719 [WARN ] W-9000-model com.amazonaws.ml.mms.wlm.WorkerLifeCycle - attachIOStreams() threadName=W-model-6\u001b[0m\n",
      "\u001b[34m2021-04-10 02:30:53,735 [INFO ] W-9000-model-stdout com.amazonaws.ml.mms.wlm.WorkerLifeCycle - Loading model from /.sagemaker/mms/models/model with contents ['models', 'MAR-INF', 'code', 'SummaryOfModels.html', 'learner.pkl', 'predictor.pkl']\u001b[0m\n",
      "\u001b[34m2021-04-10 02:30:53,741 [INFO ] W-9000-model com.amazonaws.ml.mms.wlm.WorkerThread - Backend response time: 3952\u001b[0m\n",
      "\u001b[34m2021-04-10 02:30:53,742 [WARN ] W-9000-model com.amazonaws.ml.mms.wlm.WorkerLifeCycle - attachIOStreams() threadName=W-model-5\u001b[0m\n",
      "\u001b[34m2021-04-10 02:30:53,741 [INFO ] W-9000-model-stdout com.amazonaws.ml.mms.wlm.WorkerLifeCycle - Loading model from /.sagemaker/mms/models/model with contents ['models', 'MAR-INF', 'code', 'SummaryOfModels.html', 'learner.pkl', 'predictor.pkl']\u001b[0m\n",
      "\u001b[34m2021-04-10 02:30:53,745 [INFO ] W-9000-model com.amazonaws.ml.mms.wlm.WorkerThread - Backend response time: 3950\u001b[0m\n",
      "\u001b[34m2021-04-10 02:30:53,745 [WARN ] W-9000-model com.amazonaws.ml.mms.wlm.WorkerLifeCycle - attachIOStreams() threadName=W-model-1\u001b[0m\n",
      "\u001b[34m2021-04-10 02:30:53,756 [INFO ] W-9000-model-stdout com.amazonaws.ml.mms.wlm.WorkerLifeCycle - Loading model from /.sagemaker/mms/models/model with contents ['models', 'MAR-INF', 'code', 'SummaryOfModels.html', 'learner.pkl', 'predictor.pkl']\u001b[0m\n",
      "\u001b[34m2021-04-10 02:30:53,757 [INFO ] W-9000-model-stdout com.amazonaws.ml.mms.wlm.WorkerLifeCycle - Loading model from /.sagemaker/mms/models/model with contents ['models', 'MAR-INF', 'code', 'SummaryOfModels.html', 'learner.pkl', 'predictor.pkl']\u001b[0m\n",
      "\u001b[34m2021-04-10 02:30:53,759 [INFO ] W-9000-model com.amazonaws.ml.mms.wlm.WorkerThread - Backend response time: 3891\u001b[0m\n",
      "\u001b[34m2021-04-10 02:30:53,760 [WARN ] W-9000-model com.amazonaws.ml.mms.wlm.WorkerLifeCycle - attachIOStreams() threadName=W-model-8\u001b[0m\n",
      "\u001b[34m2021-04-10 02:30:53,760 [INFO ] W-9000-model com.amazonaws.ml.mms.wlm.WorkerThread - Backend response time: 3891\u001b[0m\n",
      "\u001b[34m2021-04-10 02:30:53,760 [WARN ] W-9000-model com.amazonaws.ml.mms.wlm.WorkerLifeCycle - attachIOStreams() threadName=W-model-4\u001b[0m\n",
      "\u001b[34m2021-04-10 02:30:53,777 [INFO ] W-9000-model-stdout com.amazonaws.ml.mms.wlm.WorkerLifeCycle - Loading model from /.sagemaker/mms/models/model with contents ['models', 'MAR-INF', 'code', 'SummaryOfModels.html', 'learner.pkl', 'predictor.pkl']\u001b[0m\n",
      "\u001b[34m2021-04-10 02:30:53,779 [INFO ] W-9000-model com.amazonaws.ml.mms.wlm.WorkerThread - Backend response time: 3987\u001b[0m\n",
      "\u001b[34m2021-04-10 02:30:53,779 [WARN ] W-9000-model com.amazonaws.ml.mms.wlm.WorkerLifeCycle - attachIOStreams() threadName=W-model-7\u001b[0m\n",
      "\u001b[34m2021-04-10 02:30:53,808 [INFO ] W-9000-model-stdout com.amazonaws.ml.mms.wlm.WorkerLifeCycle - Loading model from /.sagemaker/mms/models/model with contents ['models', 'MAR-INF', 'code', 'SummaryOfModels.html', 'learner.pkl', 'predictor.pkl']\u001b[0m\n",
      "\u001b[34m2021-04-10 02:30:53,810 [INFO ] W-9000-model com.amazonaws.ml.mms.wlm.WorkerThread - Backend response time: 4022\u001b[0m\n",
      "\u001b[34m2021-04-10 02:30:53,810 [WARN ] W-9000-model com.amazonaws.ml.mms.wlm.WorkerLifeCycle - attachIOStreams() threadName=W-model-2\u001b[0m\n",
      "\u001b[34m2021-04-10 02:30:54,915 [INFO ] pool-1-thread-10 ACCESS_LOG - /169.254.255.130:56096 \"GET /ping HTTP/1.1\" 200 9\u001b[0m\n",
      "\u001b[34m2021-04-10 02:30:54,923 [INFO ] epollEventLoopGroup-3-2 ACCESS_LOG - /169.254.255.130:56100 \"GET /execution-parameters HTTP/1.1\" 404 1\u001b[0m\n",
      "\n",
      "\u001b[32m2021-04-10T02:30:54.927:[sagemaker logs]: MaxConcurrentTransforms=1, MaxPayloadInMB=6, BatchStrategy=MULTI_RECORD\u001b[0m\n",
      "\u001b[34m2021-04-10 02:31:00,203 [INFO ] W-model-3-stdout com.amazonaws.ml.mms.wlm.WorkerLifeCycle - █\u001b[0m\n",
      "\u001b[35m2021-04-10 02:31:00,203 [INFO ] W-model-3-stdout com.amazonaws.ml.mms.wlm.WorkerLifeCycle - █\u001b[0m\n",
      "\u001b[34m2021-04-10 02:31:02,500 [INFO ] W-model-3-stdout com.amazonaws.ml.mms.wlm.WorkerLifeCycle - █\u001b[0m\n",
      "\u001b[34m2021-04-10 02:31:02,501 [INFO ] W-model-3-stdout com.amazonaws.ml.mms.wlm.WorkerLifeCycle - Prediction counts: Counter({'no': 11305, 'yes': 1051})\u001b[0m\n",
      "\u001b[34m2021-04-10 02:31:02,549 [INFO ] W-model-3-stdout com.amazonaws.ml.mms.wlm.WorkerLifeCycle - Label column (y) found in input data. Therefore, evaluating prediction performance...\u001b[0m\n",
      "\u001b[34m2021-04-10 02:31:03,051 [INFO ] W-model-3-stdout com.amazonaws.ml.mms.wlm.WorkerLifeCycle - {\u001b[0m\n",
      "\u001b[34m2021-04-10 02:31:03,052 [INFO ] W-model-3-stdout com.amazonaws.ml.mms.wlm.WorkerLifeCycle -     \"accuracy\": 0.918824862415021,\u001b[0m\n",
      "\u001b[34m2021-04-10 02:31:03,052 [INFO ] W-model-3-stdout com.amazonaws.ml.mms.wlm.WorkerLifeCycle -     \"accuracy_score\": 0.918824862415021,\u001b[0m\n",
      "\u001b[34m2021-04-10 02:31:03,052 [INFO ] W-model-3-stdout com.amazonaws.ml.mms.wlm.WorkerLifeCycle -     \"balanced_accuracy_score\": 0.7435868644510907,\u001b[0m\n",
      "\u001b[34m2021-04-10 02:31:03,052 [INFO ] W-model-3-stdout com.amazonaws.ml.mms.wlm.WorkerLifeCycle -     \"matthews_corrcoef\": 0.5528345864563857,\u001b[0m\n",
      "\u001b[34m2021-04-10 02:31:03,052 [INFO ] W-model-3-stdout com.amazonaws.ml.mms.wlm.WorkerLifeCycle -     \"f1_score\": 0.918824862415021,\u001b[0m\n",
      "\u001b[34m2021-04-10 02:31:03,052 [INFO ] W-model-3-stdout com.amazonaws.ml.mms.wlm.WorkerLifeCycle -     \"confusion_matrix\": \"{\\\"no\\\":{\\\"no\\\":10631,\\\"yes\\\":674},\\\"yes\\\":{\\\"no\\\":329,\\\"yes\\\":722}}\",\u001b[0m\n",
      "\u001b[34m2021-04-10 02:31:03,052 [INFO ] W-model-3-stdout com.amazonaws.ml.mms.wlm.WorkerLifeCycle -     \"classification_report\": {\u001b[0m\n",
      "\u001b[34m2021-04-10 02:31:03,052 [INFO ] W-model-3-stdout com.amazonaws.ml.mms.wlm.WorkerLifeCycle -         \"no\": {\u001b[0m\n",
      "\u001b[34m2021-04-10 02:31:03,052 [INFO ] W-model-3-stdout com.amazonaws.ml.mms.wlm.WorkerLifeCycle -             \"precision\": 0.9403803626713844,\u001b[0m\n",
      "\u001b[34m2021-04-10 02:31:03,052 [INFO ] W-model-3-stdout com.amazonaws.ml.mms.wlm.WorkerLifeCycle -             \"recall\": 0.9699817518248175,\u001b[0m\n",
      "\u001b[34m2021-04-10 02:31:03,052 [INFO ] W-model-3-stdout com.amazonaws.ml.mms.wlm.WorkerLifeCycle -             \"f1-score\": 0.9549517179429597,\u001b[0m\n",
      "\u001b[34m2021-04-10 02:31:03,053 [INFO ] W-model-3-stdout com.amazonaws.ml.mms.wlm.WorkerLifeCycle -             \"support\": 10960\u001b[0m\n",
      "\u001b[34m2021-04-10 02:31:03,053 [INFO ] W-model-3-stdout com.amazonaws.ml.mms.wlm.WorkerLifeCycle -         },\u001b[0m\n",
      "\u001b[34m2021-04-10 02:31:03,053 [INFO ] W-model-3-stdout com.amazonaws.ml.mms.wlm.WorkerLifeCycle -         \"yes\": {\u001b[0m\n",
      "\u001b[34m2021-04-10 02:31:03,053 [INFO ] W-model-3-stdout com.amazonaws.ml.mms.wlm.WorkerLifeCycle -             \"precision\": 0.686964795432921,\u001b[0m\n",
      "\u001b[34m2021-04-10 02:31:03,053 [INFO ] W-model-3-stdout com.amazonaws.ml.mms.wlm.WorkerLifeCycle -             \"recall\": 0.5171919770773639,\u001b[0m\n",
      "\u001b[34m2021-04-10 02:31:03,053 [INFO ] W-model-3-stdout com.amazonaws.ml.mms.wlm.WorkerLifeCycle -             \"f1-score\": 0.590110339190846,\u001b[0m\n",
      "\u001b[34m2021-04-10 02:31:03,053 [INFO ] W-model-3-stdout com.amazonaws.ml.mms.wlm.WorkerLifeCycle -             \"support\": 1396\u001b[0m\n",
      "\u001b[34m2021-04-10 02:31:03,053 [INFO ] W-model-3-stdout com.amazonaws.ml.mms.wlm.WorkerLifeCycle -         },\u001b[0m\n",
      "\u001b[34m2021-04-10 02:31:03,053 [INFO ] W-model-3-stdout com.amazonaws.ml.mms.wlm.WorkerLifeCycle -         \"accuracy\": 0.918824862415021,\u001b[0m\n",
      "\u001b[34m2021-04-10 02:31:03,053 [INFO ] W-model-3-stdout com.amazonaws.ml.mms.wlm.WorkerLifeCycle -         \"macro avg\": {\u001b[0m\n",
      "\u001b[34m2021-04-10 02:31:03,053 [INFO ] W-model-3-stdout com.amazonaws.ml.mms.wlm.WorkerLifeCycle -             \"precision\": 0.8136725790521526,\u001b[0m\n",
      "\u001b[34m2021-04-10 02:31:03,053 [INFO ] W-model-3-stdout com.amazonaws.ml.mms.wlm.WorkerLifeCycle -             \"recall\": 0.7435868644510907,\u001b[0m\n",
      "\u001b[34m2021-04-10 02:31:03,054 [INFO ] W-model-3-stdout com.amazonaws.ml.mms.wlm.WorkerLifeCycle -             \"f1-score\": 0.7725310285669029,\u001b[0m\n",
      "\u001b[34m2021-04-10 02:31:03,054 [INFO ] W-model-3-stdout com.amazonaws.ml.mms.wlm.WorkerLifeCycle -             \"support\": 12356\u001b[0m\n",
      "\u001b[34m2021-04-10 02:31:03,054 [INFO ] W-model-3-stdout com.amazonaws.ml.mms.wlm.WorkerLifeCycle -         },\u001b[0m\n",
      "\u001b[34m2021-04-10 02:31:03,054 [INFO ] W-model-3-stdout com.amazonaws.ml.mms.wlm.WorkerLifeCycle -         \"weighted avg\": {\u001b[0m\n",
      "\u001b[34m2021-04-10 02:31:03,054 [INFO ] W-model-3-stdout com.amazonaws.ml.mms.wlm.WorkerLifeCycle -             \"precision\": 0.9117490797428561,\u001b[0m\n",
      "\u001b[35m2021-04-10 02:31:02,500 [INFO ] W-model-3-stdout com.amazonaws.ml.mms.wlm.WorkerLifeCycle - █\u001b[0m\n",
      "\u001b[35m2021-04-10 02:31:02,501 [INFO ] W-model-3-stdout com.amazonaws.ml.mms.wlm.WorkerLifeCycle - Prediction counts: Counter({'no': 11305, 'yes': 1051})\u001b[0m\n",
      "\u001b[35m2021-04-10 02:31:02,549 [INFO ] W-model-3-stdout com.amazonaws.ml.mms.wlm.WorkerLifeCycle - Label column (y) found in input data. Therefore, evaluating prediction performance...\u001b[0m\n",
      "\u001b[35m2021-04-10 02:31:03,051 [INFO ] W-model-3-stdout com.amazonaws.ml.mms.wlm.WorkerLifeCycle - {\u001b[0m\n",
      "\u001b[35m2021-04-10 02:31:03,052 [INFO ] W-model-3-stdout com.amazonaws.ml.mms.wlm.WorkerLifeCycle -     \"accuracy\": 0.918824862415021,\u001b[0m\n",
      "\u001b[35m2021-04-10 02:31:03,052 [INFO ] W-model-3-stdout com.amazonaws.ml.mms.wlm.WorkerLifeCycle -     \"accuracy_score\": 0.918824862415021,\u001b[0m\n",
      "\u001b[35m2021-04-10 02:31:03,052 [INFO ] W-model-3-stdout com.amazonaws.ml.mms.wlm.WorkerLifeCycle -     \"balanced_accuracy_score\": 0.7435868644510907,\u001b[0m\n",
      "\u001b[35m2021-04-10 02:31:03,052 [INFO ] W-model-3-stdout com.amazonaws.ml.mms.wlm.WorkerLifeCycle -     \"matthews_corrcoef\": 0.5528345864563857,\u001b[0m\n",
      "\u001b[35m2021-04-10 02:31:03,052 [INFO ] W-model-3-stdout com.amazonaws.ml.mms.wlm.WorkerLifeCycle -     \"f1_score\": 0.918824862415021,\u001b[0m\n",
      "\u001b[35m2021-04-10 02:31:03,052 [INFO ] W-model-3-stdout com.amazonaws.ml.mms.wlm.WorkerLifeCycle -     \"confusion_matrix\": \"{\\\"no\\\":{\\\"no\\\":10631,\\\"yes\\\":674},\\\"yes\\\":{\\\"no\\\":329,\\\"yes\\\":722}}\",\u001b[0m\n",
      "\u001b[35m2021-04-10 02:31:03,052 [INFO ] W-model-3-stdout com.amazonaws.ml.mms.wlm.WorkerLifeCycle -     \"classification_report\": {\u001b[0m\n",
      "\u001b[35m2021-04-10 02:31:03,052 [INFO ] W-model-3-stdout com.amazonaws.ml.mms.wlm.WorkerLifeCycle -         \"no\": {\u001b[0m\n",
      "\u001b[35m2021-04-10 02:31:03,052 [INFO ] W-model-3-stdout com.amazonaws.ml.mms.wlm.WorkerLifeCycle -             \"precision\": 0.9403803626713844,\u001b[0m\n",
      "\u001b[35m2021-04-10 02:31:03,052 [INFO ] W-model-3-stdout com.amazonaws.ml.mms.wlm.WorkerLifeCycle -             \"recall\": 0.9699817518248175,\u001b[0m\n",
      "\u001b[35m2021-04-10 02:31:03,052 [INFO ] W-model-3-stdout com.amazonaws.ml.mms.wlm.WorkerLifeCycle -             \"f1-score\": 0.9549517179429597,\u001b[0m\n",
      "\u001b[35m2021-04-10 02:31:03,053 [INFO ] W-model-3-stdout com.amazonaws.ml.mms.wlm.WorkerLifeCycle -             \"support\": 10960\u001b[0m\n",
      "\u001b[35m2021-04-10 02:31:03,053 [INFO ] W-model-3-stdout com.amazonaws.ml.mms.wlm.WorkerLifeCycle -         },\u001b[0m\n",
      "\u001b[35m2021-04-10 02:31:03,053 [INFO ] W-model-3-stdout com.amazonaws.ml.mms.wlm.WorkerLifeCycle -         \"yes\": {\u001b[0m\n",
      "\u001b[35m2021-04-10 02:31:03,053 [INFO ] W-model-3-stdout com.amazonaws.ml.mms.wlm.WorkerLifeCycle -             \"precision\": 0.686964795432921,\u001b[0m\n",
      "\u001b[35m2021-04-10 02:31:03,053 [INFO ] W-model-3-stdout com.amazonaws.ml.mms.wlm.WorkerLifeCycle -             \"recall\": 0.5171919770773639,\u001b[0m\n",
      "\u001b[35m2021-04-10 02:31:03,053 [INFO ] W-model-3-stdout com.amazonaws.ml.mms.wlm.WorkerLifeCycle -             \"f1-score\": 0.590110339190846,\u001b[0m\n",
      "\u001b[35m2021-04-10 02:31:03,053 [INFO ] W-model-3-stdout com.amazonaws.ml.mms.wlm.WorkerLifeCycle -             \"support\": 1396\u001b[0m\n",
      "\u001b[35m2021-04-10 02:31:03,053 [INFO ] W-model-3-stdout com.amazonaws.ml.mms.wlm.WorkerLifeCycle -         },\u001b[0m\n",
      "\u001b[35m2021-04-10 02:31:03,053 [INFO ] W-model-3-stdout com.amazonaws.ml.mms.wlm.WorkerLifeCycle -         \"accuracy\": 0.918824862415021,\u001b[0m\n",
      "\u001b[35m2021-04-10 02:31:03,053 [INFO ] W-model-3-stdout com.amazonaws.ml.mms.wlm.WorkerLifeCycle -         \"macro avg\": {\u001b[0m\n",
      "\u001b[35m2021-04-10 02:31:03,053 [INFO ] W-model-3-stdout com.amazonaws.ml.mms.wlm.WorkerLifeCycle -             \"precision\": 0.8136725790521526,\u001b[0m\n",
      "\u001b[35m2021-04-10 02:31:03,053 [INFO ] W-model-3-stdout com.amazonaws.ml.mms.wlm.WorkerLifeCycle -             \"recall\": 0.7435868644510907,\u001b[0m\n",
      "\u001b[35m2021-04-10 02:31:03,054 [INFO ] W-model-3-stdout com.amazonaws.ml.mms.wlm.WorkerLifeCycle -             \"f1-score\": 0.7725310285669029,\u001b[0m\n",
      "\u001b[35m2021-04-10 02:31:03,054 [INFO ] W-model-3-stdout com.amazonaws.ml.mms.wlm.WorkerLifeCycle -             \"support\": 12356\u001b[0m\n",
      "\u001b[35m2021-04-10 02:31:03,054 [INFO ] W-model-3-stdout com.amazonaws.ml.mms.wlm.WorkerLifeCycle -         },\u001b[0m\n",
      "\u001b[35m2021-04-10 02:31:03,054 [INFO ] W-model-3-stdout com.amazonaws.ml.mms.wlm.WorkerLifeCycle -         \"weighted avg\": {\u001b[0m\n",
      "\u001b[35m2021-04-10 02:31:03,054 [INFO ] W-model-3-stdout com.amazonaws.ml.mms.wlm.WorkerLifeCycle -             \"precision\": 0.9117490797428561,\u001b[0m\n",
      "\u001b[34m2021-04-10 02:31:03,054 [INFO ] W-model-3-stdout com.amazonaws.ml.mms.wlm.WorkerLifeCycle -             \"recall\": 0.918824862415021,\u001b[0m\n",
      "\u001b[34m2021-04-10 02:31:03,054 [INFO ] W-model-3-stdout com.amazonaws.ml.mms.wlm.WorkerLifeCycle -             \"f1-score\": 0.9137313744063823,\u001b[0m\n",
      "\u001b[34m2021-04-10 02:31:03,054 [INFO ] W-model-3-stdout com.amazonaws.ml.mms.wlm.WorkerLifeCycle -             \"support\": 12356\u001b[0m\n",
      "\u001b[34m2021-04-10 02:31:03,054 [INFO ] W-model-3-stdout com.amazonaws.ml.mms.wlm.WorkerLifeCycle -         }\u001b[0m\n",
      "\u001b[34m2021-04-10 02:31:03,054 [INFO ] W-model-3-stdout com.amazonaws.ml.mms.wlm.WorkerLifeCycle -     }\u001b[0m\n",
      "\u001b[34m2021-04-10 02:31:03,054 [INFO ] W-model-3-stdout com.amazonaws.ml.mms.wlm.WorkerLifeCycle - }\u001b[0m\n",
      "\u001b[34m2021-04-10 02:31:03,152 [INFO ] W-model-3-stdout com.amazonaws.ml.mms.wlm.WorkerLifeCycle - Elapsed time: 7.957 seconds\u001b[0m\n",
      "\u001b[34m2021-04-10 02:31:03,155 [INFO ] W-9000-model com.amazonaws.ml.mms.wlm.WorkerThread - Backend response time: 7961\u001b[0m\n",
      "\u001b[34m2021-04-10 02:31:03,156 [INFO ] W-9000-model ACCESS_LOG - /169.254.255.130:56104 \"POST /invocations HTTP/1.1\" 200 7968\u001b[0m\n",
      "\u001b[35m2021-04-10 02:31:03,054 [INFO ] W-model-3-stdout com.amazonaws.ml.mms.wlm.WorkerLifeCycle -             \"recall\": 0.918824862415021,\u001b[0m\n",
      "\u001b[35m2021-04-10 02:31:03,054 [INFO ] W-model-3-stdout com.amazonaws.ml.mms.wlm.WorkerLifeCycle -             \"f1-score\": 0.9137313744063823,\u001b[0m\n",
      "\u001b[35m2021-04-10 02:31:03,054 [INFO ] W-model-3-stdout com.amazonaws.ml.mms.wlm.WorkerLifeCycle -             \"support\": 12356\u001b[0m\n",
      "\u001b[35m2021-04-10 02:31:03,054 [INFO ] W-model-3-stdout com.amazonaws.ml.mms.wlm.WorkerLifeCycle -         }\u001b[0m\n",
      "\u001b[35m2021-04-10 02:31:03,054 [INFO ] W-model-3-stdout com.amazonaws.ml.mms.wlm.WorkerLifeCycle -     }\u001b[0m\n",
      "\u001b[35m2021-04-10 02:31:03,054 [INFO ] W-model-3-stdout com.amazonaws.ml.mms.wlm.WorkerLifeCycle - }\u001b[0m\n",
      "\u001b[35m2021-04-10 02:31:03,152 [INFO ] W-model-3-stdout com.amazonaws.ml.mms.wlm.WorkerLifeCycle - Elapsed time: 7.957 seconds\u001b[0m\n",
      "\u001b[35m2021-04-10 02:31:03,155 [INFO ] W-9000-model com.amazonaws.ml.mms.wlm.WorkerThread - Backend response time: 7961\u001b[0m\n",
      "\u001b[35m2021-04-10 02:31:03,156 [INFO ] W-9000-model ACCESS_LOG - /169.254.255.130:56104 \"POST /invocations HTTP/1.1\" 200 7968\u001b[0m\n",
      "\u001b[34mWarning: Calling MMS with mxnet-model-server. Please move to multi-model-server.\u001b[0m\n",
      "\u001b[34m2021-04-10 02:30:49,449 [INFO ] main com.amazonaws.ml.mms.ModelServer - \u001b[0m\n",
      "\u001b[34mMMS Home: /usr/local/lib/python3.6/site-packages\u001b[0m\n",
      "\u001b[34mCurrent directory: /\u001b[0m\n",
      "\u001b[34mTemp directory: /home/model-server/tmp\u001b[0m\n",
      "\u001b[34mNumber of GPUs: 0\u001b[0m\n",
      "\u001b[34mNumber of CPUs: 8\u001b[0m\n",
      "\u001b[34mMax heap size: 6277 M\u001b[0m\n",
      "\u001b[34mPython executable: /usr/local/bin/python3.6\u001b[0m\n",
      "\u001b[34mConfig file: /etc/sagemaker-mms.properties\u001b[0m\n",
      "\u001b[34mInference address: http://0.0.0.0:8080\u001b[0m\n",
      "\u001b[34mManagement address: http://0.0.0.0:8080\u001b[0m\n",
      "\u001b[34mModel Store: /.sagemaker/mms/models\u001b[0m\n",
      "\u001b[34mInitial Models: ALL\u001b[0m\n",
      "\u001b[34mLog dir: /logs\u001b[0m\n",
      "\u001b[35mWarning: Calling MMS with mxnet-model-server. Please move to multi-model-server.\u001b[0m\n",
      "\u001b[35m2021-04-10 02:30:49,449 [INFO ] main com.amazonaws.ml.mms.ModelServer - \u001b[0m\n",
      "\u001b[35mMMS Home: /usr/local/lib/python3.6/site-packages\u001b[0m\n",
      "\u001b[35mCurrent directory: /\u001b[0m\n",
      "\u001b[35mTemp directory: /home/model-server/tmp\u001b[0m\n",
      "\u001b[35mNumber of GPUs: 0\u001b[0m\n",
      "\u001b[35mNumber of CPUs: 8\u001b[0m\n",
      "\u001b[35mMax heap size: 6277 M\u001b[0m\n",
      "\u001b[35mPython executable: /usr/local/bin/python3.6\u001b[0m\n",
      "\u001b[35mConfig file: /etc/sagemaker-mms.properties\u001b[0m\n",
      "\u001b[35mInference address: http://0.0.0.0:8080\u001b[0m\n",
      "\u001b[35mManagement address: http://0.0.0.0:8080\u001b[0m\n",
      "\u001b[35mModel Store: /.sagemaker/mms/models\u001b[0m\n",
      "\u001b[35mInitial Models: ALL\u001b[0m\n",
      "\u001b[35mLog dir: /logs\u001b[0m\n",
      "\u001b[34mMetrics dir: /logs\u001b[0m\n",
      "\u001b[34mNetty threads: 0\u001b[0m\n",
      "\u001b[34mNetty client threads: 0\u001b[0m\n",
      "\u001b[34mDefault workers per model: 8\u001b[0m\n",
      "\u001b[34mBlacklist Regex: N/A\u001b[0m\n",
      "\u001b[34mMaximum Response Size: 6553500\u001b[0m\n",
      "\u001b[34mMaximum Request Size: 6553500\u001b[0m\n",
      "\u001b[34mPreload model: false\u001b[0m\n",
      "\u001b[34mPrefer direct buffer: false\u001b[0m\n",
      "\u001b[34m2021-04-10 02:30:49,519 [WARN ] W-9000-model com.amazonaws.ml.mms.wlm.WorkerLifeCycle - attachIOStreams() threadName=W-9000-model\u001b[0m\n",
      "\u001b[34m2021-04-10 02:30:49,621 [INFO ] W-9000-model-stdout com.amazonaws.ml.mms.wlm.WorkerLifeCycle - model_service_worker started with args: --sock-type unix --sock-name /home/model-server/tmp/.mms.sock.9000 --handler sagemaker_mxnet_serving_container.handler_service --model-path /.sagemaker/mms/models/model --model-name model --preload-model false --tmp-dir /home/model-server/tmp\u001b[0m\n",
      "\u001b[34m2021-04-10 02:30:49,622 [INFO ] W-9000-model-stdout com.amazonaws.ml.mms.wlm.WorkerLifeCycle - Listening on port: /home/model-server/tmp/.mms.sock.9000\u001b[0m\n",
      "\u001b[34m2021-04-10 02:30:49,622 [INFO ] W-9000-model-stdout com.amazonaws.ml.mms.wlm.WorkerLifeCycle - [PID] 71\u001b[0m\n",
      "\u001b[34m2021-04-10 02:30:49,622 [INFO ] W-9000-model-stdout com.amazonaws.ml.mms.wlm.WorkerLifeCycle - MMS worker started.\u001b[0m\n",
      "\u001b[34m2021-04-10 02:30:49,622 [INFO ] W-9000-model-stdout com.amazonaws.ml.mms.wlm.WorkerLifeCycle - Python runtime: 3.6.13\u001b[0m\n",
      "\u001b[34m2021-04-10 02:30:49,623 [INFO ] main com.amazonaws.ml.mms.wlm.ModelManager - Model model loaded.\u001b[0m\n",
      "\u001b[34m2021-04-10 02:30:49,628 [INFO ] main com.amazonaws.ml.mms.ModelServer - Initialize Inference server with: EpollServerSocketChannel.\u001b[0m\n",
      "\u001b[34m2021-04-10 02:30:49,638 [INFO ] W-9000-model com.amazonaws.ml.mms.wlm.WorkerThread - Connecting to: /home/model-server/tmp/.mms.sock.9000\u001b[0m\n",
      "\u001b[34m2021-04-10 02:30:49,638 [INFO ] W-9000-model com.amazonaws.ml.mms.wlm.WorkerThread - Connecting to: /home/model-server/tmp/.mms.sock.9000\u001b[0m\n",
      "\u001b[34m2021-04-10 02:30:49,638 [INFO ] W-9000-model com.amazonaws.ml.mms.wlm.WorkerThread - Connecting to: /home/model-server/tmp/.mms.sock.9000\u001b[0m\n",
      "\u001b[34m2021-04-10 02:30:49,638 [INFO ] W-9000-model com.amazonaws.ml.mms.wlm.WorkerThread - Connecting to: /home/model-server/tmp/.mms.sock.9000\u001b[0m\n",
      "\u001b[34m2021-04-10 02:30:49,638 [INFO ] W-9000-model com.amazonaws.ml.mms.wlm.WorkerThread - Connecting to: /home/model-server/tmp/.mms.sock.9000\u001b[0m\n",
      "\u001b[34m2021-04-10 02:30:49,639 [INFO ] W-9000-model com.amazonaws.ml.mms.wlm.WorkerThread - Connecting to: /home/model-server/tmp/.mms.sock.9000\u001b[0m\n",
      "\u001b[34m2021-04-10 02:30:49,639 [INFO ] W-9000-model com.amazonaws.ml.mms.wlm.WorkerThread - Connecting to: /home/model-server/tmp/.mms.sock.9000\u001b[0m\n",
      "\u001b[34m2021-04-10 02:30:49,640 [INFO ] W-9000-model com.amazonaws.ml.mms.wlm.WorkerThread - Connecting to: /home/model-server/tmp/.mms.sock.9000\u001b[0m\n",
      "\u001b[34m2021-04-10 02:30:49,695 [INFO ] main com.amazonaws.ml.mms.ModelServer - Inference API bind to: http://0.0.0.0:8080\u001b[0m\n",
      "\u001b[34mModel server started.\u001b[0m\n",
      "\u001b[34m2021-04-10 02:30:49,701 [INFO ] W-9000-model-stdout com.amazonaws.ml.mms.wlm.WorkerLifeCycle - Connection accepted: /home/model-server/tmp/.mms.sock.9000.\u001b[0m\n",
      "\u001b[34m2021-04-10 02:30:49,704 [WARN ] pool-2-thread-1 com.amazonaws.ml.mms.metrics.MetricCollector - worker pid is not available yet.\u001b[0m\n",
      "\u001b[34m2021-04-10 02:30:49,704 [INFO ] W-9000-model-stdout com.amazonaws.ml.mms.wlm.WorkerLifeCycle - Connection accepted: /home/model-server/tmp/.mms.sock.9000.\u001b[0m\n",
      "\u001b[34m2021-04-10 02:30:49,705 [INFO ] W-9000-model-stdout com.amazonaws.ml.mms.wlm.WorkerLifeCycle - Connection accepted: /home/model-server/tmp/.mms.sock.9000.\u001b[0m\n",
      "\u001b[35mMetrics dir: /logs\u001b[0m\n",
      "\u001b[35mNetty threads: 0\u001b[0m\n",
      "\u001b[35mNetty client threads: 0\u001b[0m\n",
      "\u001b[35mDefault workers per model: 8\u001b[0m\n",
      "\u001b[35mBlacklist Regex: N/A\u001b[0m\n",
      "\u001b[35mMaximum Response Size: 6553500\u001b[0m\n",
      "\u001b[35mMaximum Request Size: 6553500\u001b[0m\n",
      "\u001b[35mPreload model: false\u001b[0m\n",
      "\u001b[35mPrefer direct buffer: false\u001b[0m\n",
      "\u001b[35m2021-04-10 02:30:49,519 [WARN ] W-9000-model com.amazonaws.ml.mms.wlm.WorkerLifeCycle - attachIOStreams() threadName=W-9000-model\u001b[0m\n",
      "\u001b[35m2021-04-10 02:30:49,621 [INFO ] W-9000-model-stdout com.amazonaws.ml.mms.wlm.WorkerLifeCycle - model_service_worker started with args: --sock-type unix --sock-name /home/model-server/tmp/.mms.sock.9000 --handler sagemaker_mxnet_serving_container.handler_service --model-path /.sagemaker/mms/models/model --model-name model --preload-model false --tmp-dir /home/model-server/tmp\u001b[0m\n",
      "\u001b[35m2021-04-10 02:30:49,622 [INFO ] W-9000-model-stdout com.amazonaws.ml.mms.wlm.WorkerLifeCycle - Listening on port: /home/model-server/tmp/.mms.sock.9000\u001b[0m\n",
      "\u001b[35m2021-04-10 02:30:49,622 [INFO ] W-9000-model-stdout com.amazonaws.ml.mms.wlm.WorkerLifeCycle - [PID] 71\u001b[0m\n",
      "\u001b[35m2021-04-10 02:30:49,622 [INFO ] W-9000-model-stdout com.amazonaws.ml.mms.wlm.WorkerLifeCycle - MMS worker started.\u001b[0m\n",
      "\u001b[35m2021-04-10 02:30:49,622 [INFO ] W-9000-model-stdout com.amazonaws.ml.mms.wlm.WorkerLifeCycle - Python runtime: 3.6.13\u001b[0m\n",
      "\u001b[35m2021-04-10 02:30:49,623 [INFO ] main com.amazonaws.ml.mms.wlm.ModelManager - Model model loaded.\u001b[0m\n",
      "\u001b[35m2021-04-10 02:30:49,628 [INFO ] main com.amazonaws.ml.mms.ModelServer - Initialize Inference server with: EpollServerSocketChannel.\u001b[0m\n",
      "\u001b[35m2021-04-10 02:30:49,638 [INFO ] W-9000-model com.amazonaws.ml.mms.wlm.WorkerThread - Connecting to: /home/model-server/tmp/.mms.sock.9000\u001b[0m\n",
      "\u001b[35m2021-04-10 02:30:49,638 [INFO ] W-9000-model com.amazonaws.ml.mms.wlm.WorkerThread - Connecting to: /home/model-server/tmp/.mms.sock.9000\u001b[0m\n",
      "\u001b[35m2021-04-10 02:30:49,638 [INFO ] W-9000-model com.amazonaws.ml.mms.wlm.WorkerThread - Connecting to: /home/model-server/tmp/.mms.sock.9000\u001b[0m\n",
      "\u001b[35m2021-04-10 02:30:49,638 [INFO ] W-9000-model com.amazonaws.ml.mms.wlm.WorkerThread - Connecting to: /home/model-server/tmp/.mms.sock.9000\u001b[0m\n",
      "\u001b[35m2021-04-10 02:30:49,638 [INFO ] W-9000-model com.amazonaws.ml.mms.wlm.WorkerThread - Connecting to: /home/model-server/tmp/.mms.sock.9000\u001b[0m\n",
      "\u001b[35m2021-04-10 02:30:49,639 [INFO ] W-9000-model com.amazonaws.ml.mms.wlm.WorkerThread - Connecting to: /home/model-server/tmp/.mms.sock.9000\u001b[0m\n",
      "\u001b[35m2021-04-10 02:30:49,639 [INFO ] W-9000-model com.amazonaws.ml.mms.wlm.WorkerThread - Connecting to: /home/model-server/tmp/.mms.sock.9000\u001b[0m\n",
      "\u001b[35m2021-04-10 02:30:49,640 [INFO ] W-9000-model com.amazonaws.ml.mms.wlm.WorkerThread - Connecting to: /home/model-server/tmp/.mms.sock.9000\u001b[0m\n",
      "\u001b[35m2021-04-10 02:30:49,695 [INFO ] main com.amazonaws.ml.mms.ModelServer - Inference API bind to: http://0.0.0.0:8080\u001b[0m\n",
      "\u001b[35mModel server started.\u001b[0m\n",
      "\u001b[35m2021-04-10 02:30:49,701 [INFO ] W-9000-model-stdout com.amazonaws.ml.mms.wlm.WorkerLifeCycle - Connection accepted: /home/model-server/tmp/.mms.sock.9000.\u001b[0m\n",
      "\u001b[35m2021-04-10 02:30:49,704 [WARN ] pool-2-thread-1 com.amazonaws.ml.mms.metrics.MetricCollector - worker pid is not available yet.\u001b[0m\n",
      "\u001b[35m2021-04-10 02:30:49,704 [INFO ] W-9000-model-stdout com.amazonaws.ml.mms.wlm.WorkerLifeCycle - Connection accepted: /home/model-server/tmp/.mms.sock.9000.\u001b[0m\n",
      "\u001b[35m2021-04-10 02:30:49,705 [INFO ] W-9000-model-stdout com.amazonaws.ml.mms.wlm.WorkerLifeCycle - Connection accepted: /home/model-server/tmp/.mms.sock.9000.\u001b[0m\n",
      "\u001b[34m2021-04-10 02:30:49,707 [INFO ] W-9000-model-stdout com.amazonaws.ml.mms.wlm.WorkerLifeCycle - Connection accepted: /home/model-server/tmp/.mms.sock.9000.\u001b[0m\n",
      "\u001b[34m2021-04-10 02:30:49,708 [INFO ] W-9000-model-stdout com.amazonaws.ml.mms.wlm.WorkerLifeCycle - Connection accepted: /home/model-server/tmp/.mms.sock.9000.\u001b[0m\n",
      "\u001b[34m2021-04-10 02:30:49,713 [INFO ] W-9000-model-stdout com.amazonaws.ml.mms.wlm.WorkerLifeCycle - Connection accepted: /home/model-server/tmp/.mms.sock.9000.\u001b[0m\n",
      "\u001b[34m2021-04-10 02:30:49,714 [INFO ] W-9000-model-stdout com.amazonaws.ml.mms.wlm.WorkerLifeCycle - Connection accepted: /home/model-server/tmp/.mms.sock.9000.\u001b[0m\n",
      "\u001b[34m2021-04-10 02:30:49,715 [INFO ] W-9000-model-stdout com.amazonaws.ml.mms.wlm.WorkerLifeCycle - Connection accepted: /home/model-server/tmp/.mms.sock.9000.\u001b[0m\n",
      "\u001b[35m2021-04-10 02:30:49,707 [INFO ] W-9000-model-stdout com.amazonaws.ml.mms.wlm.WorkerLifeCycle - Connection accepted: /home/model-server/tmp/.mms.sock.9000.\u001b[0m\n",
      "\u001b[35m2021-04-10 02:30:49,708 [INFO ] W-9000-model-stdout com.amazonaws.ml.mms.wlm.WorkerLifeCycle - Connection accepted: /home/model-server/tmp/.mms.sock.9000.\u001b[0m\n",
      "\u001b[35m2021-04-10 02:30:49,713 [INFO ] W-9000-model-stdout com.amazonaws.ml.mms.wlm.WorkerLifeCycle - Connection accepted: /home/model-server/tmp/.mms.sock.9000.\u001b[0m\n",
      "\u001b[35m2021-04-10 02:30:49,714 [INFO ] W-9000-model-stdout com.amazonaws.ml.mms.wlm.WorkerLifeCycle - Connection accepted: /home/model-server/tmp/.mms.sock.9000.\u001b[0m\n",
      "\u001b[35m2021-04-10 02:30:49,715 [INFO ] W-9000-model-stdout com.amazonaws.ml.mms.wlm.WorkerLifeCycle - Connection accepted: /home/model-server/tmp/.mms.sock.9000.\u001b[0m\n",
      "\u001b[34m2021-04-10 02:30:53,630 [INFO ] W-9000-model-stdout com.amazonaws.ml.mms.wlm.WorkerLifeCycle - Loading model from /.sagemaker/mms/models/model with contents ['models', 'MAR-INF', 'code', 'SummaryOfModels.html', 'learner.pkl', 'predictor.pkl']\u001b[0m\n",
      "\u001b[34m2021-04-10 02:30:53,643 [INFO ] W-9000-model com.amazonaws.ml.mms.wlm.WorkerThread - Backend response time: 3775\u001b[0m\n",
      "\u001b[34m2021-04-10 02:30:53,645 [WARN ] W-9000-model com.amazonaws.ml.mms.wlm.WorkerLifeCycle - attachIOStreams() threadName=W-model-3\u001b[0m\n",
      "\u001b[34m2021-04-10 02:30:53,714 [INFO ] W-9000-model-stdout com.amazonaws.ml.mms.wlm.WorkerLifeCycle - Loading model from /.sagemaker/mms/models/model with contents ['models', 'MAR-INF', 'code', 'SummaryOfModels.html', 'learner.pkl', 'predictor.pkl']\u001b[0m\n",
      "\u001b[34m2021-04-10 02:30:53,719 [INFO ] W-9000-model com.amazonaws.ml.mms.wlm.WorkerThread - Backend response time: 3925\u001b[0m\n",
      "\u001b[34m2021-04-10 02:30:53,719 [WARN ] W-9000-model com.amazonaws.ml.mms.wlm.WorkerLifeCycle - attachIOStreams() threadName=W-model-6\u001b[0m\n",
      "\u001b[34m2021-04-10 02:30:53,735 [INFO ] W-9000-model-stdout com.amazonaws.ml.mms.wlm.WorkerLifeCycle - Loading model from /.sagemaker/mms/models/model with contents ['models', 'MAR-INF', 'code', 'SummaryOfModels.html', 'learner.pkl', 'predictor.pkl']\u001b[0m\n",
      "\u001b[34m2021-04-10 02:30:53,741 [INFO ] W-9000-model com.amazonaws.ml.mms.wlm.WorkerThread - Backend response time: 3952\u001b[0m\n",
      "\u001b[34m2021-04-10 02:30:53,742 [WARN ] W-9000-model com.amazonaws.ml.mms.wlm.WorkerLifeCycle - attachIOStreams() threadName=W-model-5\u001b[0m\n",
      "\u001b[34m2021-04-10 02:30:53,741 [INFO ] W-9000-model-stdout com.amazonaws.ml.mms.wlm.WorkerLifeCycle - Loading model from /.sagemaker/mms/models/model with contents ['models', 'MAR-INF', 'code', 'SummaryOfModels.html', 'learner.pkl', 'predictor.pkl']\u001b[0m\n",
      "\u001b[34m2021-04-10 02:30:53,745 [INFO ] W-9000-model com.amazonaws.ml.mms.wlm.WorkerThread - Backend response time: 3950\u001b[0m\n",
      "\u001b[34m2021-04-10 02:30:53,745 [WARN ] W-9000-model com.amazonaws.ml.mms.wlm.WorkerLifeCycle - attachIOStreams() threadName=W-model-1\u001b[0m\n",
      "\u001b[34m2021-04-10 02:30:53,756 [INFO ] W-9000-model-stdout com.amazonaws.ml.mms.wlm.WorkerLifeCycle - Loading model from /.sagemaker/mms/models/model with contents ['models', 'MAR-INF', 'code', 'SummaryOfModels.html', 'learner.pkl', 'predictor.pkl']\u001b[0m\n",
      "\u001b[34m2021-04-10 02:30:53,757 [INFO ] W-9000-model-stdout com.amazonaws.ml.mms.wlm.WorkerLifeCycle - Loading model from /.sagemaker/mms/models/model with contents ['models', 'MAR-INF', 'code', 'SummaryOfModels.html', 'learner.pkl', 'predictor.pkl']\u001b[0m\n",
      "\u001b[34m2021-04-10 02:30:53,759 [INFO ] W-9000-model com.amazonaws.ml.mms.wlm.WorkerThread - Backend response time: 3891\u001b[0m\n",
      "\u001b[34m2021-04-10 02:30:53,760 [WARN ] W-9000-model com.amazonaws.ml.mms.wlm.WorkerLifeCycle - attachIOStreams() threadName=W-model-8\u001b[0m\n",
      "\u001b[34m2021-04-10 02:30:53,760 [INFO ] W-9000-model com.amazonaws.ml.mms.wlm.WorkerThread - Backend response time: 3891\u001b[0m\n",
      "\u001b[34m2021-04-10 02:30:53,760 [WARN ] W-9000-model com.amazonaws.ml.mms.wlm.WorkerLifeCycle - attachIOStreams() threadName=W-model-4\u001b[0m\n",
      "\u001b[34m2021-04-10 02:30:53,777 [INFO ] W-9000-model-stdout com.amazonaws.ml.mms.wlm.WorkerLifeCycle - Loading model from /.sagemaker/mms/models/model with contents ['models', 'MAR-INF', 'code', 'SummaryOfModels.html', 'learner.pkl', 'predictor.pkl']\u001b[0m\n",
      "\u001b[34m2021-04-10 02:30:53,779 [INFO ] W-9000-model com.amazonaws.ml.mms.wlm.WorkerThread - Backend response time: 3987\u001b[0m\n",
      "\u001b[34m2021-04-10 02:30:53,779 [WARN ] W-9000-model com.amazonaws.ml.mms.wlm.WorkerLifeCycle - attachIOStreams() threadName=W-model-7\u001b[0m\n",
      "\u001b[34m2021-04-10 02:30:53,808 [INFO ] W-9000-model-stdout com.amazonaws.ml.mms.wlm.WorkerLifeCycle - Loading model from /.sagemaker/mms/models/model with contents ['models', 'MAR-INF', 'code', 'SummaryOfModels.html', 'learner.pkl', 'predictor.pkl']\u001b[0m\n",
      "\u001b[34m2021-04-10 02:30:53,810 [INFO ] W-9000-model com.amazonaws.ml.mms.wlm.WorkerThread - Backend response time: 4022\u001b[0m\n",
      "\u001b[34m2021-04-10 02:30:53,810 [WARN ] W-9000-model com.amazonaws.ml.mms.wlm.WorkerLifeCycle - attachIOStreams() threadName=W-model-2\u001b[0m\n",
      "\u001b[35m2021-04-10 02:30:53,630 [INFO ] W-9000-model-stdout com.amazonaws.ml.mms.wlm.WorkerLifeCycle - Loading model from /.sagemaker/mms/models/model with contents ['models', 'MAR-INF', 'code', 'SummaryOfModels.html', 'learner.pkl', 'predictor.pkl']\u001b[0m\n",
      "\u001b[35m2021-04-10 02:30:53,643 [INFO ] W-9000-model com.amazonaws.ml.mms.wlm.WorkerThread - Backend response time: 3775\u001b[0m\n",
      "\u001b[35m2021-04-10 02:30:53,645 [WARN ] W-9000-model com.amazonaws.ml.mms.wlm.WorkerLifeCycle - attachIOStreams() threadName=W-model-3\u001b[0m\n",
      "\u001b[35m2021-04-10 02:30:53,714 [INFO ] W-9000-model-stdout com.amazonaws.ml.mms.wlm.WorkerLifeCycle - Loading model from /.sagemaker/mms/models/model with contents ['models', 'MAR-INF', 'code', 'SummaryOfModels.html', 'learner.pkl', 'predictor.pkl']\u001b[0m\n",
      "\u001b[35m2021-04-10 02:30:53,719 [INFO ] W-9000-model com.amazonaws.ml.mms.wlm.WorkerThread - Backend response time: 3925\u001b[0m\n",
      "\u001b[35m2021-04-10 02:30:53,719 [WARN ] W-9000-model com.amazonaws.ml.mms.wlm.WorkerLifeCycle - attachIOStreams() threadName=W-model-6\u001b[0m\n",
      "\u001b[35m2021-04-10 02:30:53,735 [INFO ] W-9000-model-stdout com.amazonaws.ml.mms.wlm.WorkerLifeCycle - Loading model from /.sagemaker/mms/models/model with contents ['models', 'MAR-INF', 'code', 'SummaryOfModels.html', 'learner.pkl', 'predictor.pkl']\u001b[0m\n",
      "\u001b[35m2021-04-10 02:30:53,741 [INFO ] W-9000-model com.amazonaws.ml.mms.wlm.WorkerThread - Backend response time: 3952\u001b[0m\n",
      "\u001b[35m2021-04-10 02:30:53,742 [WARN ] W-9000-model com.amazonaws.ml.mms.wlm.WorkerLifeCycle - attachIOStreams() threadName=W-model-5\u001b[0m\n",
      "\u001b[35m2021-04-10 02:30:53,741 [INFO ] W-9000-model-stdout com.amazonaws.ml.mms.wlm.WorkerLifeCycle - Loading model from /.sagemaker/mms/models/model with contents ['models', 'MAR-INF', 'code', 'SummaryOfModels.html', 'learner.pkl', 'predictor.pkl']\u001b[0m\n",
      "\u001b[35m2021-04-10 02:30:53,745 [INFO ] W-9000-model com.amazonaws.ml.mms.wlm.WorkerThread - Backend response time: 3950\u001b[0m\n",
      "\u001b[35m2021-04-10 02:30:53,745 [WARN ] W-9000-model com.amazonaws.ml.mms.wlm.WorkerLifeCycle - attachIOStreams() threadName=W-model-1\u001b[0m\n",
      "\u001b[35m2021-04-10 02:30:53,756 [INFO ] W-9000-model-stdout com.amazonaws.ml.mms.wlm.WorkerLifeCycle - Loading model from /.sagemaker/mms/models/model with contents ['models', 'MAR-INF', 'code', 'SummaryOfModels.html', 'learner.pkl', 'predictor.pkl']\u001b[0m\n",
      "\u001b[35m2021-04-10 02:30:53,757 [INFO ] W-9000-model-stdout com.amazonaws.ml.mms.wlm.WorkerLifeCycle - Loading model from /.sagemaker/mms/models/model with contents ['models', 'MAR-INF', 'code', 'SummaryOfModels.html', 'learner.pkl', 'predictor.pkl']\u001b[0m\n",
      "\u001b[35m2021-04-10 02:30:53,759 [INFO ] W-9000-model com.amazonaws.ml.mms.wlm.WorkerThread - Backend response time: 3891\u001b[0m\n",
      "\u001b[35m2021-04-10 02:30:53,760 [WARN ] W-9000-model com.amazonaws.ml.mms.wlm.WorkerLifeCycle - attachIOStreams() threadName=W-model-8\u001b[0m\n",
      "\u001b[35m2021-04-10 02:30:53,760 [INFO ] W-9000-model com.amazonaws.ml.mms.wlm.WorkerThread - Backend response time: 3891\u001b[0m\n",
      "\u001b[35m2021-04-10 02:30:53,760 [WARN ] W-9000-model com.amazonaws.ml.mms.wlm.WorkerLifeCycle - attachIOStreams() threadName=W-model-4\u001b[0m\n",
      "\u001b[35m2021-04-10 02:30:53,777 [INFO ] W-9000-model-stdout com.amazonaws.ml.mms.wlm.WorkerLifeCycle - Loading model from /.sagemaker/mms/models/model with contents ['models', 'MAR-INF', 'code', 'SummaryOfModels.html', 'learner.pkl', 'predictor.pkl']\u001b[0m\n",
      "\u001b[35m2021-04-10 02:30:53,779 [INFO ] W-9000-model com.amazonaws.ml.mms.wlm.WorkerThread - Backend response time: 3987\u001b[0m\n",
      "\u001b[35m2021-04-10 02:30:53,779 [WARN ] W-9000-model com.amazonaws.ml.mms.wlm.WorkerLifeCycle - attachIOStreams() threadName=W-model-7\u001b[0m\n",
      "\u001b[35m2021-04-10 02:30:53,808 [INFO ] W-9000-model-stdout com.amazonaws.ml.mms.wlm.WorkerLifeCycle - Loading model from /.sagemaker/mms/models/model with contents ['models', 'MAR-INF', 'code', 'SummaryOfModels.html', 'learner.pkl', 'predictor.pkl']\u001b[0m\n",
      "\u001b[35m2021-04-10 02:30:53,810 [INFO ] W-9000-model com.amazonaws.ml.mms.wlm.WorkerThread - Backend response time: 4022\u001b[0m\n",
      "\u001b[35m2021-04-10 02:30:53,810 [WARN ] W-9000-model com.amazonaws.ml.mms.wlm.WorkerLifeCycle - attachIOStreams() threadName=W-model-2\u001b[0m\n",
      "\u001b[34m2021-04-10 02:30:54,915 [INFO ] pool-1-thread-10 ACCESS_LOG - /169.254.255.130:56096 \"GET /ping HTTP/1.1\" 200 9\u001b[0m\n",
      "\u001b[35m2021-04-10 02:30:54,915 [INFO ] pool-1-thread-10 ACCESS_LOG - /169.254.255.130:56096 \"GET /ping HTTP/1.1\" 200 9\u001b[0m\n",
      "\u001b[34m2021-04-10 02:30:54,923 [INFO ] epollEventLoopGroup-3-2 ACCESS_LOG - /169.254.255.130:56100 \"GET /execution-parameters HTTP/1.1\" 404 1\u001b[0m\n",
      "\u001b[35m2021-04-10 02:30:54,923 [INFO ] epollEventLoopGroup-3-2 ACCESS_LOG - /169.254.255.130:56100 \"GET /execution-parameters HTTP/1.1\" 404 1\u001b[0m\n",
      "\u001b[32m2021-04-10T02:30:54.927:[sagemaker logs]: MaxConcurrentTransforms=1, MaxPayloadInMB=6, BatchStrategy=MULTI_RECORD\u001b[0m\n",
      "\u001b[34m2021-04-10 02:31:00,203 [INFO ] W-model-3-stdout com.amazonaws.ml.mms.wlm.WorkerLifeCycle - █\u001b[0m\n",
      "\u001b[35m2021-04-10 02:31:00,203 [INFO ] W-model-3-stdout com.amazonaws.ml.mms.wlm.WorkerLifeCycle - █\u001b[0m\n",
      "\u001b[34m2021-04-10 02:31:02,500 [INFO ] W-model-3-stdout com.amazonaws.ml.mms.wlm.WorkerLifeCycle - █\u001b[0m\n",
      "\u001b[34m2021-04-10 02:31:02,501 [INFO ] W-model-3-stdout com.amazonaws.ml.mms.wlm.WorkerLifeCycle - Prediction counts: Counter({'no': 11305, 'yes': 1051})\u001b[0m\n",
      "\u001b[34m2021-04-10 02:31:02,549 [INFO ] W-model-3-stdout com.amazonaws.ml.mms.wlm.WorkerLifeCycle - Label column (y) found in input data. Therefore, evaluating prediction performance...\u001b[0m\n",
      "\u001b[34m2021-04-10 02:31:03,051 [INFO ] W-model-3-stdout com.amazonaws.ml.mms.wlm.WorkerLifeCycle - {\u001b[0m\n",
      "\u001b[34m2021-04-10 02:31:03,052 [INFO ] W-model-3-stdout com.amazonaws.ml.mms.wlm.WorkerLifeCycle -     \"accuracy\": 0.918824862415021,\u001b[0m\n",
      "\u001b[34m2021-04-10 02:31:03,052 [INFO ] W-model-3-stdout com.amazonaws.ml.mms.wlm.WorkerLifeCycle -     \"accuracy_score\": 0.918824862415021,\u001b[0m\n",
      "\u001b[34m2021-04-10 02:31:03,052 [INFO ] W-model-3-stdout com.amazonaws.ml.mms.wlm.WorkerLifeCycle -     \"balanced_accuracy_score\": 0.7435868644510907,\u001b[0m\n",
      "\u001b[34m2021-04-10 02:31:03,052 [INFO ] W-model-3-stdout com.amazonaws.ml.mms.wlm.WorkerLifeCycle -     \"matthews_corrcoef\": 0.5528345864563857,\u001b[0m\n",
      "\u001b[34m2021-04-10 02:31:03,052 [INFO ] W-model-3-stdout com.amazonaws.ml.mms.wlm.WorkerLifeCycle -     \"f1_score\": 0.918824862415021,\u001b[0m\n",
      "\u001b[34m2021-04-10 02:31:03,052 [INFO ] W-model-3-stdout com.amazonaws.ml.mms.wlm.WorkerLifeCycle -     \"confusion_matrix\": \"{\\\"no\\\":{\\\"no\\\":10631,\\\"yes\\\":674},\\\"yes\\\":{\\\"no\\\":329,\\\"yes\\\":722}}\",\u001b[0m\n",
      "\u001b[34m2021-04-10 02:31:03,052 [INFO ] W-model-3-stdout com.amazonaws.ml.mms.wlm.WorkerLifeCycle -     \"classification_report\": {\u001b[0m\n",
      "\u001b[34m2021-04-10 02:31:03,052 [INFO ] W-model-3-stdout com.amazonaws.ml.mms.wlm.WorkerLifeCycle -         \"no\": {\u001b[0m\n",
      "\u001b[34m2021-04-10 02:31:03,052 [INFO ] W-model-3-stdout com.amazonaws.ml.mms.wlm.WorkerLifeCycle -             \"precision\": 0.9403803626713844,\u001b[0m\n",
      "\u001b[34m2021-04-10 02:31:03,052 [INFO ] W-model-3-stdout com.amazonaws.ml.mms.wlm.WorkerLifeCycle -             \"recall\": 0.9699817518248175,\u001b[0m\n",
      "\u001b[34m2021-04-10 02:31:03,052 [INFO ] W-model-3-stdout com.amazonaws.ml.mms.wlm.WorkerLifeCycle -             \"f1-score\": 0.9549517179429597,\u001b[0m\n",
      "\u001b[34m2021-04-10 02:31:03,053 [INFO ] W-model-3-stdout com.amazonaws.ml.mms.wlm.WorkerLifeCycle -             \"support\": 10960\u001b[0m\n",
      "\u001b[34m2021-04-10 02:31:03,053 [INFO ] W-model-3-stdout com.amazonaws.ml.mms.wlm.WorkerLifeCycle -         },\u001b[0m\n",
      "\u001b[34m2021-04-10 02:31:03,053 [INFO ] W-model-3-stdout com.amazonaws.ml.mms.wlm.WorkerLifeCycle -         \"yes\": {\u001b[0m\n",
      "\u001b[34m2021-04-10 02:31:03,053 [INFO ] W-model-3-stdout com.amazonaws.ml.mms.wlm.WorkerLifeCycle -             \"precision\": 0.686964795432921,\u001b[0m\n",
      "\u001b[34m2021-04-10 02:31:03,053 [INFO ] W-model-3-stdout com.amazonaws.ml.mms.wlm.WorkerLifeCycle -             \"recall\": 0.5171919770773639,\u001b[0m\n",
      "\u001b[34m2021-04-10 02:31:03,053 [INFO ] W-model-3-stdout com.amazonaws.ml.mms.wlm.WorkerLifeCycle -             \"f1-score\": 0.590110339190846,\u001b[0m\n",
      "\u001b[34m2021-04-10 02:31:03,053 [INFO ] W-model-3-stdout com.amazonaws.ml.mms.wlm.WorkerLifeCycle -             \"support\": 1396\u001b[0m\n",
      "\u001b[34m2021-04-10 02:31:03,053 [INFO ] W-model-3-stdout com.amazonaws.ml.mms.wlm.WorkerLifeCycle -         },\u001b[0m\n",
      "\u001b[34m2021-04-10 02:31:03,053 [INFO ] W-model-3-stdout com.amazonaws.ml.mms.wlm.WorkerLifeCycle -         \"accuracy\": 0.918824862415021,\u001b[0m\n",
      "\u001b[34m2021-04-10 02:31:03,053 [INFO ] W-model-3-stdout com.amazonaws.ml.mms.wlm.WorkerLifeCycle -         \"macro avg\": {\u001b[0m\n",
      "\u001b[34m2021-04-10 02:31:03,053 [INFO ] W-model-3-stdout com.amazonaws.ml.mms.wlm.WorkerLifeCycle -             \"precision\": 0.8136725790521526,\u001b[0m\n",
      "\u001b[34m2021-04-10 02:31:03,053 [INFO ] W-model-3-stdout com.amazonaws.ml.mms.wlm.WorkerLifeCycle -             \"recall\": 0.7435868644510907,\u001b[0m\n",
      "\u001b[34m2021-04-10 02:31:03,054 [INFO ] W-model-3-stdout com.amazonaws.ml.mms.wlm.WorkerLifeCycle -             \"f1-score\": 0.7725310285669029,\u001b[0m\n",
      "\u001b[34m2021-04-10 02:31:03,054 [INFO ] W-model-3-stdout com.amazonaws.ml.mms.wlm.WorkerLifeCycle -             \"support\": 12356\u001b[0m\n",
      "\u001b[34m2021-04-10 02:31:03,054 [INFO ] W-model-3-stdout com.amazonaws.ml.mms.wlm.WorkerLifeCycle -         },\u001b[0m\n",
      "\u001b[34m2021-04-10 02:31:03,054 [INFO ] W-model-3-stdout com.amazonaws.ml.mms.wlm.WorkerLifeCycle -         \"weighted avg\": {\u001b[0m\n",
      "\u001b[34m2021-04-10 02:31:03,054 [INFO ] W-model-3-stdout com.amazonaws.ml.mms.wlm.WorkerLifeCycle -             \"precision\": 0.9117490797428561,\u001b[0m\n",
      "\u001b[35m2021-04-10 02:31:02,500 [INFO ] W-model-3-stdout com.amazonaws.ml.mms.wlm.WorkerLifeCycle - █\u001b[0m\n",
      "\u001b[35m2021-04-10 02:31:02,501 [INFO ] W-model-3-stdout com.amazonaws.ml.mms.wlm.WorkerLifeCycle - Prediction counts: Counter({'no': 11305, 'yes': 1051})\u001b[0m\n",
      "\u001b[35m2021-04-10 02:31:02,549 [INFO ] W-model-3-stdout com.amazonaws.ml.mms.wlm.WorkerLifeCycle - Label column (y) found in input data. Therefore, evaluating prediction performance...\u001b[0m\n",
      "\u001b[35m2021-04-10 02:31:03,051 [INFO ] W-model-3-stdout com.amazonaws.ml.mms.wlm.WorkerLifeCycle - {\u001b[0m\n",
      "\u001b[35m2021-04-10 02:31:03,052 [INFO ] W-model-3-stdout com.amazonaws.ml.mms.wlm.WorkerLifeCycle -     \"accuracy\": 0.918824862415021,\u001b[0m\n",
      "\u001b[35m2021-04-10 02:31:03,052 [INFO ] W-model-3-stdout com.amazonaws.ml.mms.wlm.WorkerLifeCycle -     \"accuracy_score\": 0.918824862415021,\u001b[0m\n",
      "\u001b[35m2021-04-10 02:31:03,052 [INFO ] W-model-3-stdout com.amazonaws.ml.mms.wlm.WorkerLifeCycle -     \"balanced_accuracy_score\": 0.7435868644510907,\u001b[0m\n",
      "\u001b[35m2021-04-10 02:31:03,052 [INFO ] W-model-3-stdout com.amazonaws.ml.mms.wlm.WorkerLifeCycle -     \"matthews_corrcoef\": 0.5528345864563857,\u001b[0m\n",
      "\u001b[35m2021-04-10 02:31:03,052 [INFO ] W-model-3-stdout com.amazonaws.ml.mms.wlm.WorkerLifeCycle -     \"f1_score\": 0.918824862415021,\u001b[0m\n",
      "\u001b[35m2021-04-10 02:31:03,052 [INFO ] W-model-3-stdout com.amazonaws.ml.mms.wlm.WorkerLifeCycle -     \"confusion_matrix\": \"{\\\"no\\\":{\\\"no\\\":10631,\\\"yes\\\":674},\\\"yes\\\":{\\\"no\\\":329,\\\"yes\\\":722}}\",\u001b[0m\n",
      "\u001b[35m2021-04-10 02:31:03,052 [INFO ] W-model-3-stdout com.amazonaws.ml.mms.wlm.WorkerLifeCycle -     \"classification_report\": {\u001b[0m\n",
      "\u001b[35m2021-04-10 02:31:03,052 [INFO ] W-model-3-stdout com.amazonaws.ml.mms.wlm.WorkerLifeCycle -         \"no\": {\u001b[0m\n",
      "\u001b[35m2021-04-10 02:31:03,052 [INFO ] W-model-3-stdout com.amazonaws.ml.mms.wlm.WorkerLifeCycle -             \"precision\": 0.9403803626713844,\u001b[0m\n",
      "\u001b[35m2021-04-10 02:31:03,052 [INFO ] W-model-3-stdout com.amazonaws.ml.mms.wlm.WorkerLifeCycle -             \"recall\": 0.9699817518248175,\u001b[0m\n",
      "\u001b[35m2021-04-10 02:31:03,052 [INFO ] W-model-3-stdout com.amazonaws.ml.mms.wlm.WorkerLifeCycle -             \"f1-score\": 0.9549517179429597,\u001b[0m\n",
      "\u001b[35m2021-04-10 02:31:03,053 [INFO ] W-model-3-stdout com.amazonaws.ml.mms.wlm.WorkerLifeCycle -             \"support\": 10960\u001b[0m\n",
      "\u001b[35m2021-04-10 02:31:03,053 [INFO ] W-model-3-stdout com.amazonaws.ml.mms.wlm.WorkerLifeCycle -         },\u001b[0m\n",
      "\u001b[35m2021-04-10 02:31:03,053 [INFO ] W-model-3-stdout com.amazonaws.ml.mms.wlm.WorkerLifeCycle -         \"yes\": {\u001b[0m\n",
      "\u001b[35m2021-04-10 02:31:03,053 [INFO ] W-model-3-stdout com.amazonaws.ml.mms.wlm.WorkerLifeCycle -             \"precision\": 0.686964795432921,\u001b[0m\n",
      "\u001b[35m2021-04-10 02:31:03,053 [INFO ] W-model-3-stdout com.amazonaws.ml.mms.wlm.WorkerLifeCycle -             \"recall\": 0.5171919770773639,\u001b[0m\n",
      "\u001b[35m2021-04-10 02:31:03,053 [INFO ] W-model-3-stdout com.amazonaws.ml.mms.wlm.WorkerLifeCycle -             \"f1-score\": 0.590110339190846,\u001b[0m\n",
      "\u001b[35m2021-04-10 02:31:03,053 [INFO ] W-model-3-stdout com.amazonaws.ml.mms.wlm.WorkerLifeCycle -             \"support\": 1396\u001b[0m\n",
      "\u001b[35m2021-04-10 02:31:03,053 [INFO ] W-model-3-stdout com.amazonaws.ml.mms.wlm.WorkerLifeCycle -         },\u001b[0m\n",
      "\u001b[35m2021-04-10 02:31:03,053 [INFO ] W-model-3-stdout com.amazonaws.ml.mms.wlm.WorkerLifeCycle -         \"accuracy\": 0.918824862415021,\u001b[0m\n",
      "\u001b[35m2021-04-10 02:31:03,053 [INFO ] W-model-3-stdout com.amazonaws.ml.mms.wlm.WorkerLifeCycle -         \"macro avg\": {\u001b[0m\n",
      "\u001b[35m2021-04-10 02:31:03,053 [INFO ] W-model-3-stdout com.amazonaws.ml.mms.wlm.WorkerLifeCycle -             \"precision\": 0.8136725790521526,\u001b[0m\n",
      "\u001b[35m2021-04-10 02:31:03,053 [INFO ] W-model-3-stdout com.amazonaws.ml.mms.wlm.WorkerLifeCycle -             \"recall\": 0.7435868644510907,\u001b[0m\n",
      "\u001b[35m2021-04-10 02:31:03,054 [INFO ] W-model-3-stdout com.amazonaws.ml.mms.wlm.WorkerLifeCycle -             \"f1-score\": 0.7725310285669029,\u001b[0m\n",
      "\u001b[35m2021-04-10 02:31:03,054 [INFO ] W-model-3-stdout com.amazonaws.ml.mms.wlm.WorkerLifeCycle -             \"support\": 12356\u001b[0m\n",
      "\u001b[35m2021-04-10 02:31:03,054 [INFO ] W-model-3-stdout com.amazonaws.ml.mms.wlm.WorkerLifeCycle -         },\u001b[0m\n",
      "\u001b[35m2021-04-10 02:31:03,054 [INFO ] W-model-3-stdout com.amazonaws.ml.mms.wlm.WorkerLifeCycle -         \"weighted avg\": {\u001b[0m\n",
      "\u001b[35m2021-04-10 02:31:03,054 [INFO ] W-model-3-stdout com.amazonaws.ml.mms.wlm.WorkerLifeCycle -             \"precision\": 0.9117490797428561,\u001b[0m\n",
      "\u001b[34m2021-04-10 02:31:03,054 [INFO ] W-model-3-stdout com.amazonaws.ml.mms.wlm.WorkerLifeCycle -             \"recall\": 0.918824862415021,\u001b[0m\n",
      "\u001b[34m2021-04-10 02:31:03,054 [INFO ] W-model-3-stdout com.amazonaws.ml.mms.wlm.WorkerLifeCycle -             \"f1-score\": 0.9137313744063823,\u001b[0m\n",
      "\u001b[34m2021-04-10 02:31:03,054 [INFO ] W-model-3-stdout com.amazonaws.ml.mms.wlm.WorkerLifeCycle -             \"support\": 12356\u001b[0m\n",
      "\u001b[34m2021-04-10 02:31:03,054 [INFO ] W-model-3-stdout com.amazonaws.ml.mms.wlm.WorkerLifeCycle -         }\u001b[0m\n",
      "\u001b[34m2021-04-10 02:31:03,054 [INFO ] W-model-3-stdout com.amazonaws.ml.mms.wlm.WorkerLifeCycle -     }\u001b[0m\n",
      "\u001b[34m2021-04-10 02:31:03,054 [INFO ] W-model-3-stdout com.amazonaws.ml.mms.wlm.WorkerLifeCycle - }\u001b[0m\n",
      "\u001b[34m2021-04-10 02:31:03,152 [INFO ] W-model-3-stdout com.amazonaws.ml.mms.wlm.WorkerLifeCycle - Elapsed time: 7.957 seconds\u001b[0m\n",
      "\u001b[34m2021-04-10 02:31:03,155 [INFO ] W-9000-model com.amazonaws.ml.mms.wlm.WorkerThread - Backend response time: 7961\u001b[0m\n",
      "\u001b[34m2021-04-10 02:31:03,156 [INFO ] W-9000-model ACCESS_LOG - /169.254.255.130:56104 \"POST /invocations HTTP/1.1\" 200 7968\u001b[0m\n",
      "\u001b[35m2021-04-10 02:31:03,054 [INFO ] W-model-3-stdout com.amazonaws.ml.mms.wlm.WorkerLifeCycle -             \"recall\": 0.918824862415021,\u001b[0m\n",
      "\u001b[35m2021-04-10 02:31:03,054 [INFO ] W-model-3-stdout com.amazonaws.ml.mms.wlm.WorkerLifeCycle -             \"f1-score\": 0.9137313744063823,\u001b[0m\n",
      "\u001b[35m2021-04-10 02:31:03,054 [INFO ] W-model-3-stdout com.amazonaws.ml.mms.wlm.WorkerLifeCycle -             \"support\": 12356\u001b[0m\n",
      "\u001b[35m2021-04-10 02:31:03,054 [INFO ] W-model-3-stdout com.amazonaws.ml.mms.wlm.WorkerLifeCycle -         }\u001b[0m\n",
      "\u001b[35m2021-04-10 02:31:03,054 [INFO ] W-model-3-stdout com.amazonaws.ml.mms.wlm.WorkerLifeCycle -     }\u001b[0m\n",
      "\u001b[35m2021-04-10 02:31:03,054 [INFO ] W-model-3-stdout com.amazonaws.ml.mms.wlm.WorkerLifeCycle - }\u001b[0m\n",
      "\u001b[35m2021-04-10 02:31:03,152 [INFO ] W-model-3-stdout com.amazonaws.ml.mms.wlm.WorkerLifeCycle - Elapsed time: 7.957 seconds\u001b[0m\n",
      "\u001b[35m2021-04-10 02:31:03,155 [INFO ] W-9000-model com.amazonaws.ml.mms.wlm.WorkerThread - Backend response time: 7961\u001b[0m\n",
      "\u001b[35m2021-04-10 02:31:03,156 [INFO ] W-9000-model ACCESS_LOG - /169.254.255.130:56104 \"POST /invocations HTTP/1.1\" 200 7968\u001b[0m\n"
     ]
    }
   ],
   "source": [
    "output_path = f's3://{bucket}/{prefix}/output/'\n",
    "# output_path = f'file://{os.getcwd()}'\n",
    "\n",
    "transformer = model.transformer(instance_count=1, \n",
    "                                instance_type=instance_type,\n",
    "                                strategy='MultiRecord',\n",
    "                                max_payload=6,\n",
    "                                max_concurrent_transforms=1,                              \n",
    "                                output_path=output_path)\n",
    "\n",
    "transformer.transform(test_s3_path, content_type='text/csv', split_type='Line')\n",
    "transformer.wait()"
   ]
  },
  {
   "cell_type": "markdown",
   "metadata": {
    "Collapsed": "false"
   },
   "source": [
    "### Endpoint"
   ]
  },
  {
   "cell_type": "markdown",
   "metadata": {
    "Collapsed": "false"
   },
   "source": [
    "##### Deploy remote or local endpoint"
   ]
  },
  {
   "cell_type": "code",
   "execution_count": 19,
   "metadata": {
    "Collapsed": "false"
   },
   "outputs": [
    {
     "name": "stdout",
     "output_type": "stream",
     "text": [
      "-------------!"
     ]
    }
   ],
   "source": [
    "instance_type = 'ml.m5.2xlarge'\n",
    "#instance_type = 'local'\n",
    "\n",
    "predictor = model.deploy(initial_instance_count=1, \n",
    "                         instance_type=instance_type)"
   ]
  },
  {
   "cell_type": "markdown",
   "metadata": {
    "Collapsed": "false"
   },
   "source": [
    "##### Attach to endpoint (or reattach if kernel was restarted)"
   ]
  },
  {
   "cell_type": "code",
   "execution_count": 20,
   "metadata": {
    "Collapsed": "false"
   },
   "outputs": [],
   "source": [
    "# Select standard or local session based on instance_type\n",
    "if instance_type == 'local': \n",
    "    sess = local_session\n",
    "else: \n",
    "    sess = session\n",
    "\n",
    "# Attach to endpoint\n",
    "predictor = AutoGluonTabularPredictor(predictor.endpoint_name, sagemaker_session=sess)"
   ]
  },
  {
   "cell_type": "markdown",
   "metadata": {
    "Collapsed": "false"
   },
   "source": [
    "##### Predict on unlabeled test data"
   ]
  },
  {
   "cell_type": "code",
   "execution_count": 21,
   "metadata": {
    "Collapsed": "false"
   },
   "outputs": [
    {
     "name": "stdout",
     "output_type": "stream",
     "text": [
      "Counter({'no': 11305, 'yes': 1051})\n"
     ]
    }
   ],
   "source": [
    "results = predictor.predict(X_test.to_csv(index=False)).splitlines()\n",
    "\n",
    "# Check output\n",
    "threshold = 0.5\n",
    "y_results = np.array(['yes' if float(i.split(\",\")[1]) > threshold else 'no' for i in results])\n",
    "\n",
    "print(Counter(y_results))"
   ]
  },
  {
   "cell_type": "markdown",
   "metadata": {
    "Collapsed": "false"
   },
   "source": [
    "##### Predict on data that includes label column  \n",
    "Prediction performance metrics will be printed to endpoint logs."
   ]
  },
  {
   "cell_type": "code",
   "execution_count": 22,
   "metadata": {
    "Collapsed": "false"
   },
   "outputs": [
    {
     "name": "stdout",
     "output_type": "stream",
     "text": [
      "Counter({'no': 11305, 'yes': 1051})\n"
     ]
    }
   ],
   "source": [
    "results = predictor.predict(test.to_csv(index=False)).splitlines()\n",
    "\n",
    "# Check output\n",
    "threshold = 0.5\n",
    "y_results = np.array(['yes' if float(i.split(\",\")[1]) > threshold else 'no' for i in results])\n",
    "\n",
    "print(Counter(y_results))"
   ]
  },
  {
   "cell_type": "markdown",
   "metadata": {
    "Collapsed": "false"
   },
   "source": [
    "##### Check that classification performance metrics match evaluation printed to endpoint logs as expected"
   ]
  },
  {
   "cell_type": "code",
   "execution_count": 23,
   "metadata": {
    "Collapsed": "false"
   },
   "outputs": [
    {
     "name": "stdout",
     "output_type": "stream",
     "text": [
      "accuracy: 0.918824862415021\n",
      "              precision    recall  f1-score   support\n",
      "\n",
      "          no   0.940380  0.969982  0.954952     10960\n",
      "         yes   0.686965  0.517192  0.590110      1396\n",
      "\n",
      "    accuracy                       0.918825     12356\n",
      "   macro avg   0.813673  0.743587  0.772531     12356\n",
      "weighted avg   0.911749  0.918825  0.913731     12356\n",
      "\n"
     ]
    }
   ],
   "source": [
    "threshold = 0.5\n",
    "y_results = np.array(['yes' if float(i.split(\",\")[1]) > threshold else 'no' for i in results])\n",
    "\n",
    "print(\"accuracy: {}\".format(accuracy_score(y_true=y_test, y_pred=y_results)))\n",
    "print(classification_report(y_true=y_test, y_pred=y_results, digits=6))"
   ]
  },
  {
   "cell_type": "markdown",
   "metadata": {
    "Collapsed": "false"
   },
   "source": [
    "##### Clean up endpoint"
   ]
  },
  {
   "cell_type": "code",
   "execution_count": 24,
   "metadata": {
    "Collapsed": "false"
   },
   "outputs": [],
   "source": [
    "predictor.delete_endpoint()"
   ]
  },
  {
   "cell_type": "markdown",
   "metadata": {},
   "source": [
    "## Explainability with Amazon SageMaker Clarify\n",
    "\n",
    "There are growing business needs and legislative regulations that require explainations of why a model made a certain decision. SHAP (SHapley Additive exPlanations) is an approach to explain the output of machine learning models. SHAP values represent a feature's contribution to a change in the model output. SageMaker Clarify uses SHAP to explain the contribution that each input feature makes to the final decision."
   ]
  },
  {
   "cell_type": "markdown",
   "metadata": {},
   "source": [
    "##### Set parameters for SHAP calculation"
   ]
  },
  {
   "cell_type": "code",
   "execution_count": 25,
   "metadata": {},
   "outputs": [],
   "source": [
    "seed = 0\n",
    "num_rows = 500\n",
    "\n",
    "#Write a csv file used by SageMaker Clarify\n",
    "test_explainavility_file = 'test_explainavility.csv'\n",
    "train.head(num_rows).to_csv(test_explainavility_file, index=False, header=False)\n",
    "test_explainavility_s3_path = session.upload_data(test_explainavility_file, key_prefix='{}/data'.format(prefix))"
   ]
  },
  {
   "cell_type": "markdown",
   "metadata": {},
   "source": [
    "##### Specify computing resources"
   ]
  },
  {
   "cell_type": "code",
   "execution_count": 26,
   "metadata": {},
   "outputs": [
    {
     "data": {
      "text/plain": [
       "'autogluon-sagemaker-training-2021-04-10-02-18-23-594'"
      ]
     },
     "execution_count": 26,
     "metadata": {},
     "output_type": "execute_result"
    }
   ],
   "source": [
    "from sagemaker import clarify\n",
    "\n",
    "model_name = estimator.latest_training_job.job_name\n",
    "container_def = model.prepare_container_def()\n",
    "session.create_model(model_name,\n",
    "                     role,\n",
    "                     container_def)\n",
    "\n",
    "clarify_processor = clarify.SageMakerClarifyProcessor(role=role,\n",
    "                                                      instance_count=1,\n",
    "                                                      instance_type='ml.c4.xlarge',\n",
    "                                                      sagemaker_session=session)\n",
    "model_config = clarify.ModelConfig(model_name=model_name,\n",
    "                                   instance_type='ml.c5.xlarge',\n",
    "                                   instance_count=1,\n",
    "                                   accept_type='text/csv')"
   ]
  },
  {
   "cell_type": "markdown",
   "metadata": {},
   "source": [
    "##### Run a SageMaker Clarify job"
   ]
  },
  {
   "cell_type": "code",
   "execution_count": 27,
   "metadata": {},
   "outputs": [
    {
     "name": "stdout",
     "output_type": "stream",
     "text": [
      "\n",
      "Job Name:  Clarify-Explainability-2021-04-10-02-38-11-138\n",
      "Inputs:  [{'InputName': 'dataset', 'AppManaged': False, 'S3Input': {'S3Uri': 's3://sagemaker-us-east-2-332270294944/sagemaker/autogluon-tabular/data/test_explainavility.csv', 'LocalPath': '/opt/ml/processing/input/data', 'S3DataType': 'S3Prefix', 'S3InputMode': 'File', 'S3DataDistributionType': 'FullyReplicated', 'S3CompressionType': 'None'}}, {'InputName': 'analysis_config', 'AppManaged': False, 'S3Input': {'S3Uri': 's3://sagemaker-us-east-2-332270294944/sagemaker/autogluon-tabular/autogluon-sagemaker-training-2021-04-10-02-18-23-594/clarify-explainability/analysis_config.json', 'LocalPath': '/opt/ml/processing/input/config', 'S3DataType': 'S3Prefix', 'S3InputMode': 'File', 'S3DataDistributionType': 'FullyReplicated', 'S3CompressionType': 'None'}}]\n",
      "Outputs:  [{'OutputName': 'analysis_result', 'AppManaged': False, 'S3Output': {'S3Uri': 's3://sagemaker-us-east-2-332270294944/sagemaker/autogluon-tabular/autogluon-sagemaker-training-2021-04-10-02-18-23-594/clarify-explainability', 'LocalPath': '/opt/ml/processing/output', 'S3UploadMode': 'EndOfJob'}}]\n",
      ".................................\u001b[34mINFO:sagemaker-clarify-processing:Starting SageMaker Clarify Processing job\u001b[0m\n",
      "\u001b[34mINFO:analyzer.data_loading.data_loader_util:Analysis config path: /opt/ml/processing/input/config\u001b[0m\n",
      "\u001b[34mINFO:analyzer.data_loading.data_loader_util:Analysis result path: /opt/ml/processing/output\u001b[0m\n",
      "\u001b[34mINFO:analyzer.data_loading.data_loader_util:This host is algo-1.\u001b[0m\n",
      "\u001b[34mINFO:analyzer.data_loading.data_loader_util:This host is the leader.\u001b[0m\n",
      "\u001b[34mINFO:analyzer.data_loading.data_loader_util:Number of hosts in the cluster is 1.\u001b[0m\n",
      "\u001b[34mINFO:sagemaker-clarify-processing:Running Python / Pandas based analyzer.\u001b[0m\n",
      "\u001b[34mINFO:analyzer.data_loading.data_loader_util:Dataset uri: /opt/ml/processing/input/data\u001b[0m\n",
      "\u001b[34mINFO:analyzer.data_loading.data_loader_util:Dataset type: text/csv\u001b[0m\n",
      "\u001b[34mINFO:analyzer.predictor:Spinning up shadow endpoint\u001b[0m\n",
      "\u001b[34mINFO:sagemaker:Creating endpoint-config with name sagemaker-clarify-endpoint-config-1618022612-07b6\u001b[0m\n",
      "\u001b[34mINFO:analyzer.predictor:Creating endpoint sagemaker-clarify-endpoint-1618022612-d4c5\u001b[0m\n",
      "\u001b[34mINFO:explainers.shap.kernel_shap:SHAP n_samples 100\u001b[0m\n",
      "\u001b[34mINFO:analyzer.predictor:Checking endpoint status\u001b[0m\n",
      "\u001b[34mINFO:analyzer.predictor:Endpoint is in service after 421 seconds\u001b[0m\n",
      "\u001b[34mINFO:analyzer.predictor:Prediction batch size is initialized with 56679\u001b[0m\n",
      "\u001b[34mINFO:analyzer.shap_analyzer:=====================================================\u001b[0m\n",
      "\u001b[34mINFO:analyzer.shap_analyzer:Shap analyzer: explaining 500 rows, 20 columns...\u001b[0m\n",
      "\u001b[34mINFO:analyzer.shap_analyzer:=====================================================\u001b[0m\n",
      "\u001b[34mN/A% (0 of 500) |                        | Elapsed Time: 0:00:00 ETA:  --:--:--\u001b[0m\n",
      "\u001b[34m  3% (15 of 500) |                       | Elapsed Time: 0:00:31 ETA:   0:17:08\u001b[0m\n",
      "\u001b[34m  6% (30 of 500) |#                      | Elapsed Time: 0:01:03 ETA:   0:16:24\u001b[0m\n",
      "\u001b[34m  9% (45 of 500) |##                     | Elapsed Time: 0:01:34 ETA:   0:15:58\u001b[0m\n",
      "\u001b[34m 12% (60 of 500) |##                     | Elapsed Time: 0:02:06 ETA:   0:15:30\u001b[0m\n",
      "\u001b[34m 15% (75 of 500) |###                    | Elapsed Time: 0:02:38 ETA:   0:15:09\u001b[0m\n",
      "\u001b[34m 18% (90 of 500) |####                   | Elapsed Time: 0:03:10 ETA:   0:14:32\u001b[0m\n",
      "\u001b[34m 21% (105 of 500) |####                  | Elapsed Time: 0:03:42 ETA:   0:13:55\u001b[0m\n",
      "\u001b[34m 24% (120 of 500) |#####                 | Elapsed Time: 0:04:14 ETA:   0:13:28\u001b[0m\n",
      "\u001b[34m 27% (135 of 500) |#####                 | Elapsed Time: 0:04:46 ETA:   0:12:57\u001b[0m\n",
      "\u001b[34m 30% (150 of 500) |######                | Elapsed Time: 0:05:17 ETA:   0:12:18\u001b[0m\n",
      "\u001b[34m 33% (165 of 500) |#######               | Elapsed Time: 0:05:49 ETA:   0:11:49\u001b[0m\n",
      "\u001b[34m 36% (180 of 500) |#######               | Elapsed Time: 0:06:21 ETA:   0:11:13\u001b[0m\n",
      "\u001b[34m 39% (195 of 500) |########              | Elapsed Time: 0:06:52 ETA:   0:10:46\u001b[0m\n",
      "\u001b[34m 42% (210 of 500) |#########             | Elapsed Time: 0:07:24 ETA:   0:10:16\u001b[0m\n",
      "\u001b[34m 45% (225 of 500) |#########             | Elapsed Time: 0:07:56 ETA:   0:09:46\u001b[0m\n",
      "\u001b[34m 48% (240 of 500) |##########            | Elapsed Time: 0:08:28 ETA:   0:09:12\u001b[0m\n",
      "\u001b[34m 51% (255 of 500) |###########           | Elapsed Time: 0:09:00 ETA:   0:08:40\u001b[0m\n",
      "\u001b[34m 54% (270 of 500) |###########           | Elapsed Time: 0:09:32 ETA:   0:08:03\u001b[0m\n",
      "\u001b[34m 57% (285 of 500) |############          | Elapsed Time: 0:10:03 ETA:   0:07:34\u001b[0m\n",
      "\u001b[34m 60% (300 of 500) |#############         | Elapsed Time: 0:10:35 ETA:   0:06:58\u001b[0m\n",
      "\u001b[34m 63% (315 of 500) |#############         | Elapsed Time: 0:11:06 ETA:   0:06:27\u001b[0m\n",
      "\u001b[34m 66% (330 of 500) |##############        | Elapsed Time: 0:11:38 ETA:   0:05:58\u001b[0m\n",
      "\u001b[34m 69% (345 of 500) |###############       | Elapsed Time: 0:12:10 ETA:   0:05:27\u001b[0m\n",
      "\u001b[34m 72% (360 of 500) |###############       | Elapsed Time: 0:12:41 ETA:   0:04:56\u001b[0m\n",
      "\u001b[34m 75% (375 of 500) |################      | Elapsed Time: 0:13:13 ETA:   0:04:24\u001b[0m\n",
      "\u001b[34m 78% (390 of 500) |#################     | Elapsed Time: 0:13:45 ETA:   0:03:52\u001b[0m\n",
      "\u001b[34m 81% (405 of 500) |#################     | Elapsed Time: 0:14:16 ETA:   0:03:20\u001b[0m\n",
      "\u001b[34m 84% (420 of 500) |##################    | Elapsed Time: 0:14:48 ETA:   0:02:49\u001b[0m\n",
      "\u001b[34m 87% (435 of 500) |###################   | Elapsed Time: 0:15:20 ETA:   0:02:17\u001b[0m\n",
      "\u001b[34m 90% (450 of 500) |###################   | Elapsed Time: 0:15:51 ETA:   0:01:44\u001b[0m\n",
      "\u001b[34m 93% (465 of 500) |####################  | Elapsed Time: 0:16:23 ETA:   0:01:13\u001b[0m\n",
      "\u001b[34m 96% (480 of 500) |##################### | Elapsed Time: 0:16:54 ETA:   0:00:41\u001b[0m\n",
      "\u001b[34m 99% (495 of 500) |##################### | Elapsed Time: 0:17:26 ETA:   0:00:10\u001b[0m\n",
      "\u001b[34m100% (500 of 500) |######################| Elapsed Time: 0:17:34 Time:  0:17:34\u001b[0m\n",
      "\u001b[34mINFO:analyzer.shap_analyzer:getting explanations took 1057.33 seconds.\u001b[0m\n",
      "\u001b[34mINFO:analyzer.shap_analyzer:===================================================\u001b[0m\n",
      "\u001b[34mINFO:analyzer.shap_analyzer:converting explanations to tabular took 0.06 seconds.\u001b[0m\n",
      "\u001b[34mINFO:analyzer.shap_analyzer:===================================================\u001b[0m\n",
      "\u001b[34mINFO:analyzer.shap_analyzer:Wrote 500 local explanations to: /opt/ml/processing/output/explanations_shap/out.csv, baseline used compute them to: /opt/ml/processing/output/explanations_shap/baseline.csv\u001b[0m\n",
      "\u001b[34mINFO:analyzer.shap_analyzer:writing local explanations took 0.03 seconds.\u001b[0m\n",
      "\u001b[34mINFO:analyzer.shap_analyzer:===================================================\u001b[0m\n",
      "\u001b[34mINFO:analyzer.shap_analyzer:aggregating local explanations took 0.00 seconds.\u001b[0m\n",
      "\u001b[34mINFO:analyzer.shap_analyzer:===================================================\u001b[0m\n",
      "\u001b[34mINFO:analyzer.shap_analyzer:Shap analysis finished.\u001b[0m\n",
      "\u001b[34mINFO:analyzer.predictor:Stop using endpoint: sagemaker-clarify-endpoint-1618022612-d4c5\u001b[0m\n",
      "\u001b[34mINFO:sagemaker:Deleting endpoint configuration with name: sagemaker-clarify-endpoint-config-1618022612-07b6\u001b[0m\n",
      "\u001b[34mINFO:sagemaker:Deleting endpoint with name: sagemaker-clarify-endpoint-1618022612-d4c5\u001b[0m\n",
      "\u001b[34mINFO:analyzer.predictor:Model endpoint delivered 0.47176 requests per second and a total of 501 requests over 1062 seconds\u001b[0m\n",
      "\u001b[34mINFO:analyzer.predictor:Delivered 501 predict calls with a total of 750515 examples.\u001b[0m\n",
      "\u001b[34m[NbConvertApp] Converting notebook /opt/ml/processing/output/report.ipynb to html\u001b[0m\n",
      "\u001b[34m[NbConvertApp] Writing 341390 bytes to /opt/ml/processing/output/report.html\u001b[0m\n",
      "\u001b[34mINFO:analyzer.report:HTML report '/opt/ml/processing/output/report.html' generated successfully.\u001b[0m\n",
      "\u001b[34mINFO:analyzer.report:PDF report '/opt/ml/processing/output/report.pdf' generated successfully.\u001b[0m\n",
      "\u001b[34mINFO:sagemaker-clarify-processing:Collected analyses: \u001b[0m\n",
      "\u001b[34m{\n",
      "    \"version\": \"1.0\",\n",
      "    \"explanations\": {\n",
      "        \"kernel_shap\": {\n",
      "            \"label0\": {\n",
      "                \"global_shap_values\": {\n",
      "                    \"age\": 0.005711424907617533,\n",
      "                    \"job\": 0.00577718851921522,\n",
      "                    \"marital\": 0.005812037333344314,\n",
      "                    \"education\": 0.006076651758493216,\n",
      "                    \"default\": 0.006450849760709484,\n",
      "                    \"housing\": 0.005776367107712825,\n",
      "                    \"loan\": 0.005968522707879871,\n",
      "                    \"contact\": 0.007082081877272052,\n",
      "                    \"month\": 0.014998621875183004,\n",
      "                    \"day_of_week\": 0.006079291202010963,\n",
      "                    \"duration\": 0.08742300758265419,\n",
      "                    \"campaign\": 0.005455853093708909,\n",
      "                    \"pdays\": 0.008279902909714887,\n",
      "                    \"previous\": 0.005977497577938788,\n",
      "                    \"poutcome\": 0.007932544472242122,\n",
      "                    \"emp.var.rate\": 0.027295479364939736,\n",
      "                    \"cons.price.idx\": 0.007452170674245524,\n",
      "                    \"cons.conf.idx\": 0.006412241153478636,\n",
      "                    \"euribor3m\": 0.019735733533022572,\n",
      "                    \"nr.employed\": 0.02038340878690671\n",
      "                },\n",
      "                \"expected_value\": 0.949211303393046\n",
      "            },\n",
      "            \"label1\": {\n",
      "                \"global_shap_values\": {\n",
      "                    \"age\": 0.005711424304327524,\n",
      "                    \"job\": 0.005777188085582105,\n",
      "                    \"marital\": 0.005812036795793643,\n",
      "                    \"education\": 0.006076651358123135,\n",
      "                    \"default\": 0.0064508496412425615,\n",
      "                    \"housing\": 0.005776366374659163,\n",
      "                    \"loan\": 0.005968522208147181,\n",
      "                    \"contact\": 0.0070820810784292774,\n",
      "                    \"month\": 0.014998621840098581,\n",
      "                    \"day_of_week\": 0.006079290586825176,\n",
      "                    \"duration\": 0.08742300789120568,\n",
      "                    \"campaign\": 0.005455852584461601,\n",
      "                    \"pdays\": 0.008279902413700175,\n",
      "                    \"previous\": 0.005977496969907014,\n",
      "                    \"poutcome\": 0.007932543986471563,\n",
      "                    \"emp.var.rate\": 0.027295479188230966,\n",
      "                    \"cons.price.idx\": 0.007452170192043025,\n",
      "                    \"cons.conf.idx\": 0.00641224083149572,\n",
      "                    \"euribor3m\": 0.01973573328956356,\n",
      "                    \"nr.employed\": 0.020383408377955953\n",
      "                },\n",
      "                \"expected_value\": 0.050788705392430224\n",
      "            }\n",
      "        }\n",
      "    }\u001b[0m\n",
      "\u001b[34m}\u001b[0m\n",
      "\u001b[34mINFO:analyzer.system_util:exit_message: Completed: SageMaker XAI Analyzer ran successfully\u001b[0m\n",
      "\u001b[34m-------!\u001b[0m\n",
      "\n"
     ]
    }
   ],
   "source": [
    "shap_config = clarify.SHAPConfig(baseline=X_test.sample(15, random_state=seed).values.tolist(),\n",
    "                                 num_samples=100,\n",
    "                                 agg_method='mean_abs')\n",
    "\n",
    "explainability_output_path = 's3://{}/{}/{}/clarify-explainability'.format(bucket, prefix, model_name)\n",
    "explainability_data_config = clarify.DataConfig(s3_data_input_path=test_explainavility_s3_path,\n",
    "                                s3_output_path=explainability_output_path,\n",
    "                                label='y',\n",
    "                                headers=train.columns.to_list(),\n",
    "                                dataset_type='text/csv')\n",
    "\n",
    "predictions_config = clarify.ModelPredictedLabelConfig(probability_threshold=0.5)\n",
    "\n",
    "clarify_processor.run_explainability(data_config=explainability_data_config,\n",
    "                                     model_config=model_config,\n",
    "                                     explainability_config=shap_config)"
   ]
  },
  {
   "cell_type": "markdown",
   "metadata": {},
   "source": [
    "##### View the Explainability Report"
   ]
  },
  {
   "cell_type": "markdown",
   "metadata": {},
   "source": [
    "You can view the explainability report in Studio under the experiments tab. If you're not a Studio user yet, as with the Bias Report, you can access this report at the following S3 bucket."
   ]
  },
  {
   "cell_type": "code",
   "execution_count": 28,
   "metadata": {},
   "outputs": [
    {
     "data": {
      "text/plain": [
       "CompletedProcess(args='aws s3 cp s3://sagemaker-us-east-2-332270294944/sagemaker/autogluon-tabular/autogluon-sagemaker-training-2021-04-10-02-18-23-594/clarify-explainability . --recursive', returncode=0)"
      ]
     },
     "execution_count": 28,
     "metadata": {},
     "output_type": "execute_result"
    }
   ],
   "source": [
    "subprocess.run(f\"aws s3 cp {explainability_output_path} . --recursive\", shell=True)"
   ]
  },
  {
   "cell_type": "markdown",
   "metadata": {},
   "source": [
    "Global explanatory methods allow understanding the model and its feature contributions in aggregate over multiple datapoints. Here we show an aggregate bar plot that plots the mean absolute SHAP value for each feature."
   ]
  },
  {
   "cell_type": "code",
   "execution_count": 29,
   "metadata": {},
   "outputs": [
    {
     "data": {
      "text/plain": [
       "CompletedProcess(args='/home/ec2-user/anaconda3/envs/mxnet_p36/bin/python -m pip install shap', returncode=0)"
      ]
     },
     "execution_count": 29,
     "metadata": {},
     "output_type": "execute_result"
    }
   ],
   "source": [
    "subprocess.run(f\"{sys.executable} -m pip install shap\", shell=True)"
   ]
  },
  {
   "cell_type": "markdown",
   "metadata": {},
   "source": [
    "##### Compute global shap values out of out.csv"
   ]
  },
  {
   "cell_type": "code",
   "execution_count": 30,
   "metadata": {},
   "outputs": [
    {
     "data": {
      "text/plain": [
       "{'age_label0': 0.005711424907617532,\n",
       " 'job_label0': 0.00577718851921522,\n",
       " 'marital_label0': 0.005812037333344314,\n",
       " 'education_label0': 0.006076651758493216,\n",
       " 'default_label0': 0.006450849760709483,\n",
       " 'housing_label0': 0.005776367107712825,\n",
       " 'loan_label0': 0.005968522707879871,\n",
       " 'contact_label0': 0.007082081877272052,\n",
       " 'month_label0': 0.014998621875183004,\n",
       " 'day_of_week_label0': 0.006079291202010962,\n",
       " 'duration_label0': 0.08742300758265419,\n",
       " 'campaign_label0': 0.005455853093708909,\n",
       " 'pdays_label0': 0.008279902909714887,\n",
       " 'previous_label0': 0.005977497577938787,\n",
       " 'poutcome_label0': 0.007932544472242122,\n",
       " 'emp.var.rate_label0': 0.027295479364939736,\n",
       " 'cons.price.idx_label0': 0.007452170674245526,\n",
       " 'cons.conf.idx_label0': 0.006412241153478637,\n",
       " 'euribor3m_label0': 0.019735733533022572,\n",
       " 'nr.employed_label0': 0.02038340878690671,\n",
       " 'age_label1': 0.005711424304327524,\n",
       " 'job_label1': 0.0057771880855821064,\n",
       " 'marital_label1': 0.005812036795793644,\n",
       " 'education_label1': 0.006076651358123135,\n",
       " 'default_label1': 0.0064508496412425615,\n",
       " 'housing_label1': 0.005776366374659163,\n",
       " 'loan_label1': 0.005968522208147181,\n",
       " 'contact_label1': 0.0070820810784292774,\n",
       " 'month_label1': 0.014998621840098581,\n",
       " 'day_of_week_label1': 0.006079290586825176,\n",
       " 'duration_label1': 0.08742300789120568,\n",
       " 'campaign_label1': 0.005455852584461601,\n",
       " 'pdays_label1': 0.008279902413700175,\n",
       " 'previous_label1': 0.005977496969907014,\n",
       " 'poutcome_label1': 0.007932543986471563,\n",
       " 'emp.var.rate_label1': 0.027295479188230963,\n",
       " 'cons.price.idx_label1': 0.007452170192043025,\n",
       " 'cons.conf.idx_label1': 0.00641224083149572,\n",
       " 'euribor3m_label1': 0.019735733289563562,\n",
       " 'nr.employed_label1': 0.02038340837795595}"
      ]
     },
     "execution_count": 30,
     "metadata": {},
     "output_type": "execute_result"
    }
   ],
   "source": [
    "shap_values_ = pd.read_csv('explanations_shap/out.csv')\n",
    "shap_values_.abs().mean().to_dict()"
   ]
  },
  {
   "cell_type": "code",
   "execution_count": 31,
   "metadata": {},
   "outputs": [],
   "source": [
    "num_features = len(train.head(num_rows).drop(['y'], axis = 1).columns)"
   ]
  },
  {
   "cell_type": "code",
   "execution_count": 32,
   "metadata": {},
   "outputs": [
    {
     "data": {
      "image/png": "[encoded data removed]",
      "text/plain": [
       "<Figure size 576x684 with 1 Axes>"
      ]
     },
     "metadata": {
      "needs_background": "light"
     },
     "output_type": "display_data"
    }
   ],
   "source": [
    "import shap\n",
    "shap_values = [shap_values_.to_numpy()[:,:num_features], shap_values_.to_numpy()[:,num_features:]]\n",
    "shap.summary_plot(shap_values, \n",
    "                  plot_type='bar', \n",
    "                  feature_names=train.head(num_rows).drop(['y'], axis = 1).columns.tolist())"
   ]
  },
  {
   "cell_type": "markdown",
   "metadata": {},
   "source": [
    "The detailed summary plot below can provide more context over the above bar chart. It tells which features are most important and, in addition, their range of effects over the dataset. The color allows us to match how changes in the value of a feature effect the change in prediction. The 'red' indicates higher value of the feature and 'blue' indicates lower (normalized over the features)."
   ]
  },
  {
   "cell_type": "code",
   "execution_count": 33,
   "metadata": {},
   "outputs": [
    {
     "data": {
      "image/png": "[encoded data removed]",
      "text/plain": [
       "<Figure size 576x684 with 2 Axes>"
      ]
     },
     "metadata": {
      "needs_background": "light"
     },
     "output_type": "display_data"
    }
   ],
   "source": [
    "shap.summary_plot(shap_values_[shap_values_.columns[20:]].to_numpy(), \n",
    "                  train.head(num_rows).drop(['y'], axis = 1))"
   ]
  },
  {
   "cell_type": "code",
   "execution_count": null,
   "metadata": {},
   "outputs": [],
   "source": []
  }
 ],
 "metadata": {
  "kernelspec": {
   "display_name": "conda_mxnet_p36",
   "language": "python",
   "name": "conda_mxnet_p36"
  },
  "language_info": {
   "codemirror_mode": {
    "name": "ipython",
    "version": 3
   },
   "file_extension": ".py",
   "mimetype": "text/x-python",
   "name": "python",
   "nbconvert_exporter": "python",
   "pygments_lexer": "ipython3",
   "version": "3.6.13"
  }
 },
 "nbformat": 4,
 "nbformat_minor": 4
}
